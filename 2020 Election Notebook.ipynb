{
 "cells": [
  {
   "cell_type": "code",
   "execution_count": 1,
   "id": "72f8697f",
   "metadata": {},
   "outputs": [],
   "source": [
    "# Basics and Plotting\n",
    "import pandas as pd\n",
    "import numpy as np\n",
    "import scipy as scp\n",
    "import matplotlib.pyplot as plt\n",
    "from mpl_toolkits import mplot3d\n",
    "import seaborn as sns\n",
    "from itertools import chain, combinations\n",
    "import csv\n",
    "\n",
    "# Sklearn Models\n",
    "import sklearn.linear_model as skl_lm\n",
    "from sklearn.linear_model import LinearRegression, LogisticRegression\n",
    "from sklearn.linear_model import Lasso, Ridge\n",
    "from sklearn.metrics import mean_squared_error\n",
    "from sklearn.model_selection import train_test_split, LeaveOneOut, KFold, cross_val_score, cross_validate\n",
    "from sklearn.preprocessing import PolynomialFeatures\n",
    "from sklearn.neighbors import KNeighborsRegressor, KNeighborsClassifier\n",
    "from sklearn.preprocessing import scale\n",
    "from sklearn.decomposition import PCA\n",
    "from sklearn.cross_decomposition import PLSRegression\n",
    "\n",
    "# Alternative models\n",
    "import statsmodels.api as sm\n",
    "from statsmodels.stats.outliers_influence import variance_inflation_factor\n",
    "import statsmodels.formula.api as smf"
   ]
  },
  {
   "cell_type": "code",
   "execution_count": 2,
   "id": "6ad410bc",
   "metadata": {},
   "outputs": [
    {
     "name": "stderr",
     "output_type": "stream",
     "text": [
      "C:\\Users\\JP\\anaconda3\\lib\\site-packages\\IPython\\core\\interactiveshell.py:3165: DtypeWarning: Columns (15,17,18,19,21,22,23,25,26,27,29,30,31,33,34,35,37,38,1508,1509) have mixed types.Specify dtype option on import or set low_memory=False.\n",
      "  has_raised = await self.run_ast_nodes(code_ast.body, cell_name,\n"
     ]
    }
   ],
   "source": [
    "dataset = pd.read_csv(\"https://raw.githubusercontent.com/jprichmond20/2020ElectionStudy/main/anes_timeseries_2020_csv_20220210.csv\")"
   ]
  },
  {
   "cell_type": "code",
   "execution_count": 3,
   "id": "325bdf1b",
   "metadata": {},
   "outputs": [
    {
     "name": "stdout",
     "output_type": "stream",
     "text": [
      "Skip Blank Lines: True\n",
      "Row count: 8280\n",
      "Skip Blank Lines: False\n",
      "Row count: 8280\n"
     ]
    }
   ],
   "source": [
    "for skip_blank_lines in [True, False]:\n",
    "    print(\"Skip Blank Lines:\", skip_blank_lines)\n",
    "    df = pd.read_csv(\"https://raw.githubusercontent.com/jprichmond20/2020ElectionStudy/main/anes_timeseries_2020_csv_20220210.csv\", skip_blank_lines=skip_blank_lines)\n",
    "\n",
    "    print(\"Row count:\", len(df))\n",
    "    "
   ]
  },
  {
   "cell_type": "code",
   "execution_count": null,
   "id": "8156c311",
   "metadata": {},
   "outputs": [],
   "source": [
    "print(\"Unique values:\", df[df.columns[0]].unique(), \"\\n\")"
   ]
  },
  {
   "cell_type": "code",
   "execution_count": null,
   "id": "f321e6db",
   "metadata": {},
   "outputs": [],
   "source": [
    "df.columns"
   ]
  },
  {
   "cell_type": "code",
   "execution_count": null,
   "id": "0f8b1f82",
   "metadata": {},
   "outputs": [],
   "source": [
    "df"
   ]
  },
  {
   "cell_type": "code",
   "execution_count": null,
   "id": "8315fa89",
   "metadata": {},
   "outputs": [],
   "source": [
    "df.head()"
   ]
  },
  {
   "cell_type": "code",
   "execution_count": null,
   "id": "5ef4b0dd",
   "metadata": {},
   "outputs": [],
   "source": []
  },
  {
   "cell_type": "code",
   "execution_count": 4,
   "id": "880bbad9",
   "metadata": {},
   "outputs": [],
   "source": [
    "df = df[[\"V201004\", \"V201005\", \"V201008\", \n",
    "                    \"V201024\", \"V202110x\", \"V201030\", \"V201651\", \n",
    "                    \"V201645\", \"V201628\", \"V201627\", \"V201626\", \n",
    "                    \"V201622\", \"V201620\", \"V201607\", \"V201606\", \n",
    "                    \"V201602\", \"V201600\", \"V201601\", \"V201594\", \n",
    "                    \"V201589\", \"V201575\", \"V201565x\", \"V201550\", \n",
    "                    \"V201549x\", \"V201540\", \"V201531\", \n",
    "                    \"V201530y\", \"V201515\", \"V201511x\", \"V201508\", \n",
    "                    \"V201507x\", \"V201462\", \"V201453\", \"V201435\", \n",
    "                    \"V201433\", \"V201432x\", \"V201426x\", \"V201417\", \n",
    "                    \"V201416\", \"V201411x\", \"V201393\", \"V201379\", \n",
    "                    \"V201377\", \"V201366\", \"V201364\", \"V201359x\", \n",
    "                    \"V201335\", \"V201244\", \"V201242\", \"V201241\", \n",
    "                    \"V201240\", \"V201239\", \"V201237\", \"V201231x\", \n",
    "                    \"V201232\", \"V201220\", \"V201216\", \"V201156\", \n",
    "                    \"V201157\", \"V201122\", \"V201123\", \"V201121\", \n",
    "                    \"V201114\", \"V201100\", \"V201103\", \"V201036\", \n",
    "                   \"V201018\"]]"
   ]
  },
  {
   "cell_type": "code",
   "execution_count": 5,
   "id": "ffaef120",
   "metadata": {},
   "outputs": [
    {
     "data": {
      "text/html": [
       "<div>\n",
       "<style scoped>\n",
       "    .dataframe tbody tr th:only-of-type {\n",
       "        vertical-align: middle;\n",
       "    }\n",
       "\n",
       "    .dataframe tbody tr th {\n",
       "        vertical-align: top;\n",
       "    }\n",
       "\n",
       "    .dataframe thead th {\n",
       "        text-align: right;\n",
       "    }\n",
       "</style>\n",
       "<table border=\"1\" class=\"dataframe\">\n",
       "  <thead>\n",
       "    <tr style=\"text-align: right;\">\n",
       "      <th></th>\n",
       "      <th>V201004</th>\n",
       "      <th>V201005</th>\n",
       "      <th>V201008</th>\n",
       "      <th>V201024</th>\n",
       "      <th>V202110x</th>\n",
       "      <th>V201030</th>\n",
       "      <th>V201651</th>\n",
       "      <th>V201645</th>\n",
       "      <th>V201628</th>\n",
       "      <th>V201627</th>\n",
       "      <th>...</th>\n",
       "      <th>V201156</th>\n",
       "      <th>V201157</th>\n",
       "      <th>V201122</th>\n",
       "      <th>V201123</th>\n",
       "      <th>V201121</th>\n",
       "      <th>V201114</th>\n",
       "      <th>V201100</th>\n",
       "      <th>V201103</th>\n",
       "      <th>V201036</th>\n",
       "      <th>V201018</th>\n",
       "    </tr>\n",
       "  </thead>\n",
       "  <tbody>\n",
       "    <tr>\n",
       "      <th>0</th>\n",
       "      <td>-1</td>\n",
       "      <td>2</td>\n",
       "      <td>1</td>\n",
       "      <td>-1</td>\n",
       "      <td>-1</td>\n",
       "      <td>-1</td>\n",
       "      <td>1</td>\n",
       "      <td>3</td>\n",
       "      <td>3</td>\n",
       "      <td>1</td>\n",
       "      <td>...</td>\n",
       "      <td>0</td>\n",
       "      <td>85</td>\n",
       "      <td>5</td>\n",
       "      <td>1</td>\n",
       "      <td>1</td>\n",
       "      <td>1</td>\n",
       "      <td>1</td>\n",
       "      <td>2</td>\n",
       "      <td>-1</td>\n",
       "      <td>2</td>\n",
       "    </tr>\n",
       "    <tr>\n",
       "      <th>1</th>\n",
       "      <td>-1</td>\n",
       "      <td>4</td>\n",
       "      <td>1</td>\n",
       "      <td>-1</td>\n",
       "      <td>3</td>\n",
       "      <td>-1</td>\n",
       "      <td>3</td>\n",
       "      <td>4</td>\n",
       "      <td>0</td>\n",
       "      <td>2</td>\n",
       "      <td>...</td>\n",
       "      <td>0</td>\n",
       "      <td>50</td>\n",
       "      <td>3</td>\n",
       "      <td>3</td>\n",
       "      <td>1</td>\n",
       "      <td>2</td>\n",
       "      <td>2</td>\n",
       "      <td>5</td>\n",
       "      <td>-1</td>\n",
       "      <td>4</td>\n",
       "    </tr>\n",
       "    <tr>\n",
       "      <th>2</th>\n",
       "      <td>-1</td>\n",
       "      <td>1</td>\n",
       "      <td>1</td>\n",
       "      <td>-1</td>\n",
       "      <td>1</td>\n",
       "      <td>-1</td>\n",
       "      <td>3</td>\n",
       "      <td>1</td>\n",
       "      <td>0</td>\n",
       "      <td>3</td>\n",
       "      <td>...</td>\n",
       "      <td>60</td>\n",
       "      <td>0</td>\n",
       "      <td>5</td>\n",
       "      <td>5</td>\n",
       "      <td>1</td>\n",
       "      <td>2</td>\n",
       "      <td>1</td>\n",
       "      <td>1</td>\n",
       "      <td>-1</td>\n",
       "      <td>-1</td>\n",
       "    </tr>\n",
       "    <tr>\n",
       "      <th>3</th>\n",
       "      <td>-1</td>\n",
       "      <td>2</td>\n",
       "      <td>1</td>\n",
       "      <td>-1</td>\n",
       "      <td>1</td>\n",
       "      <td>-1</td>\n",
       "      <td>1</td>\n",
       "      <td>1</td>\n",
       "      <td>0</td>\n",
       "      <td>4</td>\n",
       "      <td>...</td>\n",
       "      <td>50</td>\n",
       "      <td>70</td>\n",
       "      <td>4</td>\n",
       "      <td>4</td>\n",
       "      <td>2</td>\n",
       "      <td>2</td>\n",
       "      <td>2</td>\n",
       "      <td>1</td>\n",
       "      <td>-1</td>\n",
       "      <td>2</td>\n",
       "    </tr>\n",
       "    <tr>\n",
       "      <th>4</th>\n",
       "      <td>-1</td>\n",
       "      <td>2</td>\n",
       "      <td>1</td>\n",
       "      <td>-1</td>\n",
       "      <td>2</td>\n",
       "      <td>-1</td>\n",
       "      <td>2</td>\n",
       "      <td>1</td>\n",
       "      <td>0</td>\n",
       "      <td>4</td>\n",
       "      <td>...</td>\n",
       "      <td>20</td>\n",
       "      <td>70</td>\n",
       "      <td>3</td>\n",
       "      <td>3</td>\n",
       "      <td>4</td>\n",
       "      <td>2</td>\n",
       "      <td>1</td>\n",
       "      <td>2</td>\n",
       "      <td>-1</td>\n",
       "      <td>4</td>\n",
       "    </tr>\n",
       "  </tbody>\n",
       "</table>\n",
       "<p>5 rows × 67 columns</p>\n",
       "</div>"
      ],
      "text/plain": [
       "   V201004  V201005  V201008  V201024  V202110x  V201030  V201651  V201645  \\\n",
       "0       -1        2        1       -1        -1       -1        1        3   \n",
       "1       -1        4        1       -1         3       -1        3        4   \n",
       "2       -1        1        1       -1         1       -1        3        1   \n",
       "3       -1        2        1       -1         1       -1        1        1   \n",
       "4       -1        2        1       -1         2       -1        2        1   \n",
       "\n",
       "   V201628  V201627  ...  V201156  V201157  V201122  V201123  V201121  \\\n",
       "0        3        1  ...        0       85        5        1        1   \n",
       "1        0        2  ...        0       50        3        3        1   \n",
       "2        0        3  ...       60        0        5        5        1   \n",
       "3        0        4  ...       50       70        4        4        2   \n",
       "4        0        4  ...       20       70        3        3        4   \n",
       "\n",
       "   V201114  V201100  V201103  V201036  V201018  \n",
       "0        1        1        2       -1        2  \n",
       "1        2        2        5       -1        4  \n",
       "2        2        1        1       -1       -1  \n",
       "3        2        2        1       -1        2  \n",
       "4        2        1        2       -1        4  \n",
       "\n",
       "[5 rows x 67 columns]"
      ]
     },
     "execution_count": 5,
     "metadata": {},
     "output_type": "execute_result"
    }
   ],
   "source": [
    "df.head()"
   ]
  },
  {
   "cell_type": "code",
   "execution_count": null,
   "id": "690d5063",
   "metadata": {},
   "outputs": [],
   "source": [
    "df"
   ]
  },
  {
   "cell_type": "code",
   "execution_count": null,
   "id": "21df0f4f",
   "metadata": {},
   "outputs": [],
   "source": [
    "df.rename(columns = {V2012004:})"
   ]
  },
  {
   "cell_type": "code",
   "execution_count": null,
   "id": "14dcbe20",
   "metadata": {},
   "outputs": [],
   "source": [
    "fig, ax = plt.subplots()\n",
    "colors = {'-9':'blue', '-8':'red', '-1':'green', '1':'blue', '2':'red', '4':'red', '5':'blue'}\n",
    "grouped = df.groupby('V201018')\n",
    "for key, group in grouped:\n",
    "    group.plot(ax=ax, kind='scatter', x='V201156', \n",
    "               y='V201157', label=key, color=colors[key])\n",
    "plt.show()"
   ]
  },
  {
   "cell_type": "code",
   "execution_count": null,
   "id": "e8e17b0c",
   "metadata": {},
   "outputs": [],
   "source": [
    "plt.figure(dpi=150)\n",
    "parties = ['D', 'R']\n",
    "colors = {'-9':'blue', '-8':'red', '-1':'green', '1':'blue', '2':'red', '4':'red', '5':'blue'}\n",
    "plt.scatter(df['V201156'], df['V201157'], c=df['V201231x'])\n",
    "\n",
    "plt.xlim(0,100)\n",
    "plt.ylim(0,100)\n",
    "plt.legend(df['V201231x'].values)\n",
    "plt.show()"
   ]
  },
  {
   "cell_type": "code",
   "execution_count": null,
   "id": "55082dac",
   "metadata": {},
   "outputs": [],
   "source": [
    "mod = smf.ols(formula='V202110x ~ 1 + V201004 + V201005 + V201008 + V201024 + V201030 + V201651 + V201645+ V201628+ V201627+ V201626+ V201622+ V201620+ V201607+ V201606+ V201602+ V201600+ V201601+ V201594+ V201589+ V201575+ V201565x+ V201550+ V201549x+ V201540+ V201531+ V201530y+ V201515+ V201511x+ V201508+ V201507x+ V201462+ V201453+ V201435+ V201433+ V201432x+ V201426x+ V201417+ V201416+ V201411x+ V201393+ V201379+ V201377+ V201366+ V201364+ V201359x+ V201335+ V201244+ V201242+ V201241+ V201240+ V201239+ V201237+ V201231x+ V201232+ V201220+ V201216+ V201156+ V201157+ V201122+ V201123+ V201121+ V201114+ V201100+ V201103+ V201036+ V201018', data=df)"
   ]
  },
  {
   "cell_type": "code",
   "execution_count": null,
   "id": "c80a4f0b",
   "metadata": {},
   "outputs": [],
   "source": [
    "res = mod.fit()\n",
    "res.summary()"
   ]
  },
  {
   "cell_type": "code",
   "execution_count": null,
   "id": "a352253e",
   "metadata": {},
   "outputs": [],
   "source": [
    "vif = pd.DataFrame()\n",
    "vif['X'] = df.columns\n",
    "vif['vif'] = [variance_inflation_factor(df.values, i) for i in range(len(df.columns))]\n",
    "vif"
   ]
  },
  {
   "cell_type": "code",
   "execution_count": null,
   "id": "8295465d",
   "metadata": {},
   "outputs": [],
   "source": [
    "df['V202110x'].value_counts()"
   ]
  },
  {
   "cell_type": "code",
   "execution_count": null,
   "id": "b0e886b6",
   "metadata": {},
   "outputs": [],
   "source": [
    "df.columns.get_loc('V202110x')"
   ]
  },
  {
   "cell_type": "code",
   "execution_count": 5,
   "id": "af64c4c6",
   "metadata": {},
   "outputs": [],
   "source": [
    "metric_store = [[],[]]\n",
    "for i, combination in enumerate(combinations([0,1,2,3,5,6,7,8,9,10,11,12,13,14,15,16,17,18,19,20,21,22,23,24,25,26,27,28,29,30,31,32,33,34,35,36,37,38,39,40,41,42,43,44,45,46,47,48,49,50,51,52,53,54,55,56,57,58,59,60,61,62,63,64,65,66],1), 1):\n",
    "    x_data = sm.add_constant(df.iloc[:,list(combination)])\n",
    "    mod  = sm.OLS(df.V202110x, x_data).fit()\n",
    "    metric_store[0].append(list(combination))\n",
    "    metric_store[1].append(mod.bic)"
   ]
  },
  {
   "cell_type": "code",
   "execution_count": 6,
   "id": "babe0840",
   "metadata": {},
   "outputs": [
    {
     "data": {
      "text/plain": [
       "[[[0],\n",
       "  [1],\n",
       "  [2],\n",
       "  [3],\n",
       "  [5],\n",
       "  [6],\n",
       "  [7],\n",
       "  [8],\n",
       "  [9],\n",
       "  [10],\n",
       "  [11],\n",
       "  [12],\n",
       "  [13],\n",
       "  [14],\n",
       "  [15],\n",
       "  [16],\n",
       "  [17],\n",
       "  [18],\n",
       "  [19],\n",
       "  [20],\n",
       "  [21],\n",
       "  [22],\n",
       "  [23],\n",
       "  [24],\n",
       "  [25],\n",
       "  [26],\n",
       "  [27],\n",
       "  [28],\n",
       "  [29],\n",
       "  [30],\n",
       "  [31],\n",
       "  [32],\n",
       "  [33],\n",
       "  [34],\n",
       "  [35],\n",
       "  [36],\n",
       "  [37],\n",
       "  [38],\n",
       "  [39],\n",
       "  [40],\n",
       "  [41],\n",
       "  [42],\n",
       "  [43],\n",
       "  [44],\n",
       "  [45],\n",
       "  [46],\n",
       "  [47],\n",
       "  [48],\n",
       "  [49],\n",
       "  [50],\n",
       "  [51],\n",
       "  [52],\n",
       "  [53],\n",
       "  [54],\n",
       "  [55],\n",
       "  [56],\n",
       "  [57],\n",
       "  [58],\n",
       "  [59],\n",
       "  [60],\n",
       "  [61],\n",
       "  [62],\n",
       "  [63],\n",
       "  [64],\n",
       "  [65],\n",
       "  [66]],\n",
       " [30675.166677422843,\n",
       "  30513.337803510072,\n",
       "  30315.31537917019,\n",
       "  30676.560624169862,\n",
       "  30640.14123294474,\n",
       "  30680.816835758465,\n",
       "  30638.915810908566,\n",
       "  30644.071851847642,\n",
       "  30623.585338827663,\n",
       "  30582.38664885875,\n",
       "  30660.99691743487,\n",
       "  30671.304655574877,\n",
       "  30673.743682230965,\n",
       "  30637.08241606979,\n",
       "  30677.37263011222,\n",
       "  30657.72495178974,\n",
       "  30602.966706206545,\n",
       "  30582.31998538485,\n",
       "  30681.796560341198,\n",
       "  30678.412077460547,\n",
       "  30663.677136446302,\n",
       "  30673.743682230965,\n",
       "  30680.813906778436,\n",
       "  30673.410530358542,\n",
       "  30673.743682230965,\n",
       "  30673.743682230965,\n",
       "  30674.0477799036,\n",
       "  30583.176006353297,\n",
       "  30624.71920949728,\n",
       "  30550.98225223482,\n",
       "  30677.805599720807,\n",
       "  30675.717227001394,\n",
       "  30642.55045429553,\n",
       "  30669.547651345285,\n",
       "  30615.275039577624,\n",
       "  30540.646985619907,\n",
       "  30676.970562222636,\n",
       "  30552.64739988498,\n",
       "  30672.19675958375,\n",
       "  30639.899177256924,\n",
       "  30670.289029945143,\n",
       "  30610.17427190623,\n",
       "  30682.763681985376,\n",
       "  30678.09786057582,\n",
       "  30626.672722203653,\n",
       "  30653.05178867167,\n",
       "  30478.000508930443,\n",
       "  30439.850481336194,\n",
       "  30393.933639509254,\n",
       "  30430.89189781041,\n",
       "  30405.492402979347,\n",
       "  30638.636946009126,\n",
       "  30418.46050143701,\n",
       "  30681.71650182636,\n",
       "  30619.405285111574,\n",
       "  30410.460183873045,\n",
       "  30525.217450638327,\n",
       "  30504.95432322039,\n",
       "  30681.238454743536,\n",
       "  30674.958709790182,\n",
       "  30614.819747187645,\n",
       "  30676.798446866665,\n",
       "  30082.210068786775,\n",
       "  29977.72354016121,\n",
       "  30521.927369958285,\n",
       "  30611.900889591656]]"
      ]
     },
     "execution_count": 6,
     "metadata": {},
     "output_type": "execute_result"
    }
   ],
   "source": [
    "metric_store"
   ]
  },
  {
   "cell_type": "code",
   "execution_count": 7,
   "id": "2bd1a870",
   "metadata": {},
   "outputs": [
    {
     "data": {
      "text/plain": [
       "([64], 29977.72354016121)"
      ]
     },
     "execution_count": 7,
     "metadata": {},
     "output_type": "execute_result"
    }
   ],
   "source": [
    "metric_store[0][np.argmin(metric_store[1])], np.min(metric_store[1])"
   ]
  },
  {
   "cell_type": "code",
   "execution_count": 8,
   "id": "19ce645b",
   "metadata": {},
   "outputs": [],
   "source": [
    "metric_store = [[],[]]\n",
    "for i, combination in enumerate(combinations([0,1,2,3,5,6,7,8,9,10,11,12,13,14,15,16,17,18,19,20,21,22,23,24,25,26,27,28,29,30,31,32,33,34,35,36,37,38,39,40,41,42,43,44,45,46,47,48,49,50,51,52,53,54,55,56,57,58,59,60,61,62,63,65,66],1), 1):\n",
    "    x_data = sm.add_constant(df.iloc[:,[64] + list(combination)])\n",
    "    mod  = sm.OLS(df.V202110x, x_data).fit()\n",
    "    metric_store[0].append(list(combination))\n",
    "    metric_store[1].append(mod.bic)"
   ]
  },
  {
   "cell_type": "code",
   "execution_count": 9,
   "id": "b230492f",
   "metadata": {},
   "outputs": [
    {
     "data": {
      "text/plain": [
       "([63], 29660.635885916097)"
      ]
     },
     "execution_count": 9,
     "metadata": {},
     "output_type": "execute_result"
    }
   ],
   "source": [
    "metric_store[0][np.argmin(metric_store[1])], np.min(metric_store[1])"
   ]
  },
  {
   "cell_type": "code",
   "execution_count": 10,
   "id": "285460ae",
   "metadata": {},
   "outputs": [],
   "source": [
    "metric_store = [[],[]]\n",
    "for i, combination in enumerate(combinations([0,1,2,3,5,6,7,8,9,10,11,12,13,14,15,16,17,18,19,20,21,22,23,24,25,26,27,28,29,30,31,32,33,34,35,36,37,38,39,40,41,42,43,44,45,46,47,48,49,50,51,52,53,54,55,56,57,58,59,60,61,62,65,66],1), 1):\n",
    "    x_data = sm.add_constant(df.iloc[:,[64,63] + list(combination)])\n",
    "    mod  = sm.OLS(df.V202110x, x_data).fit()\n",
    "    metric_store[0].append(list(combination))\n",
    "    metric_store[1].append(mod.bic)"
   ]
  },
  {
   "cell_type": "code",
   "execution_count": 11,
   "id": "cd9481a1",
   "metadata": {},
   "outputs": [
    {
     "data": {
      "text/plain": [
       "([49], 29453.165778767685)"
      ]
     },
     "execution_count": 11,
     "metadata": {},
     "output_type": "execute_result"
    }
   ],
   "source": [
    "metric_store[0][np.argmin(metric_store[1])], np.min(metric_store[1])"
   ]
  },
  {
   "cell_type": "code",
   "execution_count": 12,
   "id": "c8e111ea",
   "metadata": {},
   "outputs": [],
   "source": [
    "metric_store = [[],[]]\n",
    "for i, combination in enumerate(combinations([0,1,2,3,5,6,7,8,9,10,11,12,13,14,15,16,17,18,19,20,21,22,23,24,25,26,27,28,29,30,31,32,33,34,35,36,37,38,39,40,41,42,43,44,45,46,47,48,50,51,52,53,54,55,56,57,58,59,60,61,62,65,66],1), 1):\n",
    "    x_data = sm.add_constant(df.iloc[:,[64,63,49] + list(combination)])\n",
    "    mod  = sm.OLS(df.V202110x, x_data).fit()\n",
    "    metric_store[0].append(list(combination))\n",
    "    metric_store[1].append(mod.bic)"
   ]
  },
  {
   "cell_type": "code",
   "execution_count": 13,
   "id": "bcc2399e",
   "metadata": {},
   "outputs": [
    {
     "data": {
      "text/plain": [
       "([2], 29391.419186912033)"
      ]
     },
     "execution_count": 13,
     "metadata": {},
     "output_type": "execute_result"
    }
   ],
   "source": [
    "metric_store[0][np.argmin(metric_store[1])], np.min(metric_store[1])"
   ]
  },
  {
   "cell_type": "code",
   "execution_count": 14,
   "id": "2c79a8c8",
   "metadata": {},
   "outputs": [],
   "source": [
    "metric_store = [[],[]]\n",
    "for i, combination in enumerate(combinations([0,1,3,5,6,7,8,9,10,11,12,13,14,15,16,17,18,19,20,21,22,23,24,25,26,27,28,29,30,31,32,33,34,35,36,37,38,39,40,41,42,43,44,45,46,47,48,50,51,52,53,54,55,56,57,58,59,60,61,62,65,66],1), 1):\n",
    "    x_data = sm.add_constant(df.iloc[:,[64,63,49,2] + list(combination)])\n",
    "    mod  = sm.OLS(df.V202110x, x_data).fit()\n",
    "    metric_store[0].append(list(combination))\n",
    "    metric_store[1].append(mod.bic)"
   ]
  },
  {
   "cell_type": "code",
   "execution_count": 15,
   "id": "833674c2",
   "metadata": {},
   "outputs": [
    {
     "data": {
      "text/plain": [
       "([17], 29340.951295232415)"
      ]
     },
     "execution_count": 15,
     "metadata": {},
     "output_type": "execute_result"
    }
   ],
   "source": [
    "metric_store[0][np.argmin(metric_store[1])], np.min(metric_store[1])"
   ]
  },
  {
   "cell_type": "code",
   "execution_count": 16,
   "id": "2a9f499a",
   "metadata": {},
   "outputs": [],
   "source": [
    "metric_store = [[],[]]\n",
    "for i, combination in enumerate(combinations([0,1,3,5,6,7,8,9,10,11,12,13,14,15,16,18,19,20,21,22,23,24,25,26,27,28,29,30,31,32,33,34,35,36,37,38,39,40,41,42,43,44,45,46,47,48,50,51,52,53,54,55,56,57,58,59,60,61,62,65,66],1), 1):\n",
    "    x_data = sm.add_constant(df.iloc[:,[64,63,49,2,17] + list(combination)])\n",
    "    mod  = sm.OLS(df.V202110x, x_data).fit()\n",
    "    metric_store[0].append(list(combination))\n",
    "    metric_store[1].append(mod.bic)"
   ]
  },
  {
   "cell_type": "code",
   "execution_count": 17,
   "id": "fb860600",
   "metadata": {},
   "outputs": [
    {
     "data": {
      "text/plain": [
       "([56], 29312.536830555517)"
      ]
     },
     "execution_count": 17,
     "metadata": {},
     "output_type": "execute_result"
    }
   ],
   "source": [
    "metric_store[0][np.argmin(metric_store[1])], np.min(metric_store[1])"
   ]
  },
  {
   "cell_type": "code",
   "execution_count": 18,
   "id": "ad540e3d",
   "metadata": {},
   "outputs": [],
   "source": [
    "metric_store = [[],[]]\n",
    "for i, combination in enumerate(combinations([0,1,3,5,6,7,8,9,10,11,12,13,14,15,16,18,19,20,21,22,23,24,25,26,27,28,29,30,31,32,33,34,35,36,37,38,39,40,41,42,43,44,45,46,47,48,50,51,52,53,54,55,57,58,59,60,61,62,65,66],1), 1):\n",
    "    x_data = sm.add_constant(df.iloc[:,[64,63,49,2,17,56] + list(combination)])\n",
    "    mod  = sm.OLS(df.V202110x, x_data).fit()\n",
    "    metric_store[0].append(list(combination))\n",
    "    metric_store[1].append(mod.bic)"
   ]
  },
  {
   "cell_type": "code",
   "execution_count": 19,
   "id": "a45c5047",
   "metadata": {},
   "outputs": [
    {
     "data": {
      "text/plain": [
       "([38], 29289.339307361428)"
      ]
     },
     "execution_count": 19,
     "metadata": {},
     "output_type": "execute_result"
    }
   ],
   "source": [
    "metric_store[0][np.argmin(metric_store[1])], np.min(metric_store[1])"
   ]
  },
  {
   "cell_type": "code",
   "execution_count": 20,
   "id": "d3daec4b",
   "metadata": {},
   "outputs": [],
   "source": [
    "metric_store = [[],[]]\n",
    "for i, combination in enumerate(combinations([0,1,3,5,6,7,8,9,10,11,12,13,14,15,16,18,19,20,21,22,23,24,25,26,27,28,29,30,31,32,33,34,35,36,37,39,40,41,42,43,44,45,46,47,48,50,51,52,53,54,55,57,58,59,60,61,62,65,66],1), 1):\n",
    "    x_data = sm.add_constant(df.iloc[:,[64,63,49,2,17,56,38] + list(combination)])\n",
    "    mod  = sm.OLS(df.V202110x, x_data).fit()\n",
    "    metric_store[0].append(list(combination))\n",
    "    metric_store[1].append(mod.bic)"
   ]
  },
  {
   "cell_type": "code",
   "execution_count": 21,
   "id": "c157240b",
   "metadata": {},
   "outputs": [
    {
     "data": {
      "text/plain": [
       "([42], 29268.939720697344)"
      ]
     },
     "execution_count": 21,
     "metadata": {},
     "output_type": "execute_result"
    }
   ],
   "source": [
    "metric_store[0][np.argmin(metric_store[1])], np.min(metric_store[1])"
   ]
  },
  {
   "cell_type": "code",
   "execution_count": 22,
   "id": "b71ff3d2",
   "metadata": {},
   "outputs": [],
   "source": [
    "metric_store = [[],[]]\n",
    "for i, combination in enumerate(combinations([0,1,3,5,6,7,8,9,10,11,12,13,14,15,16,18,19,20,21,22,23,24,25,26,27,28,29,30,31,32,33,34,35,36,37,39,40,41,43,44,45,46,47,48,50,51,52,53,54,55,57,58,59,60,61,62,65,66],1), 1):\n",
    "    x_data = sm.add_constant(df.iloc[:,[64,63,49,2,17,56,38,42] + list(combination)])\n",
    "    mod  = sm.OLS(df.V202110x, x_data).fit()\n",
    "    metric_store[0].append(list(combination))\n",
    "    metric_store[1].append(mod.bic)"
   ]
  },
  {
   "cell_type": "code",
   "execution_count": 23,
   "id": "a3b16531",
   "metadata": {},
   "outputs": [
    {
     "data": {
      "text/plain": [
       "([28], 29252.531417339847)"
      ]
     },
     "execution_count": 23,
     "metadata": {},
     "output_type": "execute_result"
    }
   ],
   "source": [
    "metric_store[0][np.argmin(metric_store[1])], np.min(metric_store[1])"
   ]
  },
  {
   "cell_type": "code",
   "execution_count": 24,
   "id": "22a15cef",
   "metadata": {},
   "outputs": [],
   "source": [
    "metric_store = [[],[]]\n",
    "for i, combination in enumerate(combinations([0,1,3,5,6,7,8,9,10,11,12,13,14,15,16,18,19,20,21,22,23,24,25,26,27,29,30,31,32,33,34,35,36,37,39,40,41,43,44,45,46,47,48,50,51,52,53,54,55,57,58,59,60,61,62,65,66],1), 1):\n",
    "    x_data = sm.add_constant(df.iloc[:,[64,63,49,2,17,56,38,42,28] + list(combination)])\n",
    "    mod  = sm.OLS(df.V202110x, x_data).fit()\n",
    "    metric_store[0].append(list(combination))\n",
    "    metric_store[1].append(mod.bic)"
   ]
  },
  {
   "cell_type": "code",
   "execution_count": 25,
   "id": "1434039c",
   "metadata": {},
   "outputs": [
    {
     "data": {
      "text/plain": [
       "([50], 29243.586672543694)"
      ]
     },
     "execution_count": 25,
     "metadata": {},
     "output_type": "execute_result"
    }
   ],
   "source": [
    "metric_store[0][np.argmin(metric_store[1])], np.min(metric_store[1])"
   ]
  },
  {
   "cell_type": "code",
   "execution_count": 26,
   "id": "8a30d86b",
   "metadata": {},
   "outputs": [],
   "source": [
    "metric_store = [[],[]]\n",
    "for i, combination in enumerate(combinations([0,1,3,5,6,7,8,9,10,11,12,13,14,15,16,18,19,20,21,22,23,24,25,26,27,29,30,31,32,33,34,35,36,37,39,40,41,43,44,45,46,47,48,51,52,53,54,55,57,58,59,60,61,62,65,66],1), 1):\n",
    "    x_data = sm.add_constant(df.iloc[:,[64,63,49,2,17,56,38,42,28,50] + list(combination)])\n",
    "    mod  = sm.OLS(df.V202110x, x_data).fit()\n",
    "    metric_store[0].append(list(combination))\n",
    "    metric_store[1].append(mod.bic)"
   ]
  },
  {
   "cell_type": "code",
   "execution_count": 27,
   "id": "22753f63",
   "metadata": {},
   "outputs": [
    {
     "data": {
      "text/plain": [
       "([15], 29234.24461198143)"
      ]
     },
     "execution_count": 27,
     "metadata": {},
     "output_type": "execute_result"
    }
   ],
   "source": [
    "metric_store[0][np.argmin(metric_store[1])], np.min(metric_store[1])"
   ]
  },
  {
   "cell_type": "code",
   "execution_count": 28,
   "id": "ed3fee05",
   "metadata": {},
   "outputs": [],
   "source": [
    "metric_store = [[],[]]\n",
    "for i, combination in enumerate(combinations([0,1,3,5,6,7,8,9,10,11,12,13,14,16,18,19,20,21,22,23,24,25,26,27,29,30,31,32,33,34,35,36,37,39,40,41,43,44,45,46,47,48,51,52,53,54,55,57,58,59,60,61,62,65,66],1), 1):\n",
    "    x_data = sm.add_constant(df.iloc[:,[64,63,49,2,17,56,38,42,28,50,15] + list(combination)])\n",
    "    mod  = sm.OLS(df.V202110x, x_data).fit()\n",
    "    metric_store[0].append(list(combination))\n",
    "    metric_store[1].append(mod.bic)"
   ]
  },
  {
   "cell_type": "code",
   "execution_count": 29,
   "id": "45a4671b",
   "metadata": {},
   "outputs": [
    {
     "data": {
      "text/plain": [
       "([9], 29226.617726163382)"
      ]
     },
     "execution_count": 29,
     "metadata": {},
     "output_type": "execute_result"
    }
   ],
   "source": [
    "metric_store[0][np.argmin(metric_store[1])], np.min(metric_store[1])"
   ]
  },
  {
   "cell_type": "code",
   "execution_count": 30,
   "id": "691e858d",
   "metadata": {},
   "outputs": [],
   "source": [
    "metric_store = [[],[]]\n",
    "for i, combination in enumerate(combinations([0,1,3,5,6,7,8,10,11,12,13,14,16,18,19,20,21,22,23,24,25,26,27,29,30,31,32,33,34,35,36,37,39,40,41,43,44,45,46,47,48,51,52,53,54,55,57,58,59,60,61,62,65,66],1), 1):\n",
    "    x_data = sm.add_constant(df.iloc[:,[64,63,49,2,17,56,38,42,28,50,15,9] + list(combination)])\n",
    "    mod  = sm.OLS(df.V202110x, x_data).fit()\n",
    "    metric_store[0].append(list(combination))\n",
    "    metric_store[1].append(mod.bic)"
   ]
  },
  {
   "cell_type": "code",
   "execution_count": 31,
   "id": "f8d568d7",
   "metadata": {},
   "outputs": [
    {
     "data": {
      "text/plain": [
       "([11], 29223.1338086734)"
      ]
     },
     "execution_count": 31,
     "metadata": {},
     "output_type": "execute_result"
    }
   ],
   "source": [
    "metric_store[0][np.argmin(metric_store[1])], np.min(metric_store[1])"
   ]
  },
  {
   "cell_type": "code",
   "execution_count": 32,
   "id": "46e33e67",
   "metadata": {},
   "outputs": [],
   "source": [
    "metric_store = [[],[]]\n",
    "for i, combination in enumerate(combinations([0,1,3,5,6,7,8,10,12,13,14,16,18,19,20,21,22,23,24,25,26,27,29,30,31,32,33,34,35,36,37,39,40,41,43,44,45,46,47,48,51,52,53,54,55,57,58,59,60,61,62,65,66],1), 1):\n",
    "    x_data = sm.add_constant(df.iloc[:,[64,63,49,2,17,56,38,42,28,50,15,9,11] + list(combination)])\n",
    "    mod  = sm.OLS(df.V202110x, x_data).fit()\n",
    "    metric_store[0].append(list(combination))\n",
    "    metric_store[1].append(mod.bic)"
   ]
  },
  {
   "cell_type": "code",
   "execution_count": 33,
   "id": "226adf76",
   "metadata": {},
   "outputs": [
    {
     "data": {
      "text/plain": [
       "([6], 29213.509579401158)"
      ]
     },
     "execution_count": 33,
     "metadata": {},
     "output_type": "execute_result"
    }
   ],
   "source": [
    "metric_store[0][np.argmin(metric_store[1])], np.min(metric_store[1])"
   ]
  },
  {
   "cell_type": "code",
   "execution_count": 34,
   "id": "55299da5",
   "metadata": {},
   "outputs": [],
   "source": [
    "metric_store = [[],[]]\n",
    "for i, combination in enumerate(combinations([0,1,3,5,7,8,10,12,13,14,16,18,19,20,21,22,23,24,25,26,27,29,30,31,32,33,34,35,36,37,39,40,41,43,44,45,46,47,48,51,52,53,54,55,57,58,59,60,61,62,65,66],1), 1):\n",
    "    x_data = sm.add_constant(df.iloc[:,[64,63,49,2,17,56,38,42,28,50,15,9,11,6] + list(combination)])\n",
    "    mod  = sm.OLS(df.V202110x, x_data).fit()\n",
    "    metric_store[0].append(list(combination))\n",
    "    metric_store[1].append(mod.bic)"
   ]
  },
  {
   "cell_type": "code",
   "execution_count": 35,
   "id": "409581b5",
   "metadata": {},
   "outputs": [
    {
     "data": {
      "text/plain": [
       "([58], 29209.738625727012)"
      ]
     },
     "execution_count": 35,
     "metadata": {},
     "output_type": "execute_result"
    }
   ],
   "source": [
    "metric_store[0][np.argmin(metric_store[1])], np.min(metric_store[1])"
   ]
  },
  {
   "cell_type": "code",
   "execution_count": 36,
   "id": "dd9913bc",
   "metadata": {},
   "outputs": [],
   "source": [
    "metric_store = [[],[]]\n",
    "for i, combination in enumerate(combinations([0,1,3,5,7,8,10,12,13,14,16,18,19,20,21,22,23,24,25,26,27,29,30,31,32,33,34,35,36,37,39,40,41,43,44,45,46,47,48,51,52,53,54,55,57,59,60,61,62,65,66],1), 1):\n",
    "    x_data = sm.add_constant(df.iloc[:,[64,63,49,2,17,56,38,42,28,50,15,9,11,6,58] + list(combination)])\n",
    "    mod  = sm.OLS(df.V202110x, x_data).fit()\n",
    "    metric_store[0].append(list(combination))\n",
    "    metric_store[1].append(mod.bic)"
   ]
  },
  {
   "cell_type": "code",
   "execution_count": 37,
   "id": "df090931",
   "metadata": {},
   "outputs": [
    {
     "data": {
      "text/plain": [
       "([65], 29206.22924955847)"
      ]
     },
     "execution_count": 37,
     "metadata": {},
     "output_type": "execute_result"
    }
   ],
   "source": [
    "metric_store[0][np.argmin(metric_store[1])], np.min(metric_store[1])"
   ]
  },
  {
   "cell_type": "code",
   "execution_count": 38,
   "id": "13855159",
   "metadata": {},
   "outputs": [],
   "source": [
    "metric_store = [[],[]]\n",
    "for i, combination in enumerate(combinations([0,1,3,5,7,8,10,12,13,14,16,18,19,20,21,22,23,24,25,26,27,29,30,31,32,33,34,35,36,37,39,40,41,43,44,45,46,47,48,51,52,53,54,55,57,59,60,61,62,66],1), 1):\n",
    "    x_data = sm.add_constant(df.iloc[:,[64,63,49,2,17,56,38,42,28,50,15,9,11,6,58,65] + list(combination)])\n",
    "    mod  = sm.OLS(df.V202110x, x_data).fit()\n",
    "    metric_store[0].append(list(combination))\n",
    "    metric_store[1].append(mod.bic)"
   ]
  },
  {
   "cell_type": "code",
   "execution_count": 39,
   "id": "5867e639",
   "metadata": {},
   "outputs": [
    {
     "data": {
      "text/plain": [
       "([8], 29204.621835862177)"
      ]
     },
     "execution_count": 39,
     "metadata": {},
     "output_type": "execute_result"
    }
   ],
   "source": [
    "metric_store[0][np.argmin(metric_store[1])], np.min(metric_store[1])"
   ]
  },
  {
   "cell_type": "code",
   "execution_count": 40,
   "id": "2cf2f85b",
   "metadata": {},
   "outputs": [],
   "source": [
    "metric_store = [[],[]]\n",
    "for i, combination in enumerate(combinations([0,1,3,5,7,10,12,13,14,16,18,19,20,21,22,23,24,25,26,27,29,30,31,32,33,34,35,36,37,39,40,41,43,44,45,46,47,48,51,52,53,54,55,57,59,60,61,62,66],1), 1):\n",
    "    x_data = sm.add_constant(df.iloc[:,[64,63,49,2,17,56,38,42,28,50,15,9,11,6,58,65,8] + list(combination)])\n",
    "    mod  = sm.OLS(df.V202110x, x_data).fit()\n",
    "    metric_store[0].append(list(combination))\n",
    "    metric_store[1].append(mod.bic)"
   ]
  },
  {
   "cell_type": "code",
   "execution_count": 41,
   "id": "883353eb",
   "metadata": {},
   "outputs": [
    {
     "data": {
      "text/plain": [
       "([27], 29203.19326540676)"
      ]
     },
     "execution_count": 41,
     "metadata": {},
     "output_type": "execute_result"
    }
   ],
   "source": [
    "metric_store[0][np.argmin(metric_store[1])], np.min(metric_store[1])"
   ]
  },
  {
   "cell_type": "code",
   "execution_count": 42,
   "id": "1fc3d3e5",
   "metadata": {},
   "outputs": [],
   "source": [
    "metric_store = [[],[]]\n",
    "for i, combination in enumerate(combinations([0,1,3,5,7,10,12,13,14,16,18,19,20,21,22,23,24,25,26,29,30,31,32,33,34,35,36,37,39,40,41,43,44,45,46,47,48,51,52,53,54,55,57,59,60,61,62,66],1), 1):\n",
    "    x_data = sm.add_constant(df.iloc[:,[64,63,49,2,17,56,38,42,28,50,15,9,11,6,58,65,8,27] + list(combination)])\n",
    "    mod  = sm.OLS(df.V202110x, x_data).fit()\n",
    "    metric_store[0].append(list(combination))\n",
    "    metric_store[1].append(mod.bic)"
   ]
  },
  {
   "cell_type": "code",
   "execution_count": 43,
   "id": "87f6514d",
   "metadata": {},
   "outputs": [
    {
     "data": {
      "text/plain": [
       "([13], 29203.19326540676)"
      ]
     },
     "execution_count": 43,
     "metadata": {},
     "output_type": "execute_result"
    }
   ],
   "source": [
    "metric_store[0][np.argmin(metric_store[1])], np.min(metric_store[1])"
   ]
  },
  {
   "cell_type": "markdown",
   "id": "a3197e2f",
   "metadata": {},
   "source": [
    "[64,63,49,2,17,56,38,42,28,50,15,9,11,6,58,65,8,27]"
   ]
  },
  {
   "cell_type": "code",
   "execution_count": null,
   "id": "a4ff0e0a",
   "metadata": {},
   "outputs": [],
   "source": []
  },
  {
   "cell_type": "code",
   "execution_count": null,
   "id": "09c66b2a",
   "metadata": {},
   "outputs": [],
   "source": []
  },
  {
   "cell_type": "code",
   "execution_count": null,
   "id": "2f9ca612",
   "metadata": {},
   "outputs": [],
   "source": []
  },
  {
   "cell_type": "code",
   "execution_count": null,
   "id": "f8be7a6f",
   "metadata": {},
   "outputs": [],
   "source": []
  },
  {
   "cell_type": "code",
   "execution_count": null,
   "id": "85e35521",
   "metadata": {},
   "outputs": [],
   "source": []
  },
  {
   "cell_type": "code",
   "execution_count": null,
   "id": "5231cb02",
   "metadata": {},
   "outputs": [],
   "source": []
  },
  {
   "cell_type": "code",
   "execution_count": null,
   "id": "ce54e221",
   "metadata": {},
   "outputs": [],
   "source": []
  },
  {
   "cell_type": "code",
   "execution_count": 6,
   "id": "e7e9269b",
   "metadata": {},
   "outputs": [],
   "source": [
    "dfNew = df.iloc[:,[4,64,63,49,2,17,56,38,42,28,50,15,9,11,6,58,65,8,27]]"
   ]
  },
  {
   "cell_type": "code",
   "execution_count": 45,
   "id": "1630476c",
   "metadata": {},
   "outputs": [
    {
     "data": {
      "text/html": [
       "<div>\n",
       "<style scoped>\n",
       "    .dataframe tbody tr th:only-of-type {\n",
       "        vertical-align: middle;\n",
       "    }\n",
       "\n",
       "    .dataframe tbody tr th {\n",
       "        vertical-align: top;\n",
       "    }\n",
       "\n",
       "    .dataframe thead th {\n",
       "        text-align: right;\n",
       "    }\n",
       "</style>\n",
       "<table border=\"1\" class=\"dataframe\">\n",
       "  <thead>\n",
       "    <tr style=\"text-align: right;\">\n",
       "      <th></th>\n",
       "      <th>V202110x</th>\n",
       "      <th>V201103</th>\n",
       "      <th>V201100</th>\n",
       "      <th>V201241</th>\n",
       "      <th>V201008</th>\n",
       "      <th>V201601</th>\n",
       "      <th>V201216</th>\n",
       "      <th>V201416</th>\n",
       "      <th>V201377</th>\n",
       "      <th>V201511x</th>\n",
       "      <th>V201240</th>\n",
       "      <th>V201602</th>\n",
       "      <th>V201627</th>\n",
       "      <th>V201622</th>\n",
       "      <th>V201651</th>\n",
       "      <th>V201157</th>\n",
       "      <th>V201036</th>\n",
       "      <th>V201628</th>\n",
       "      <th>V201515</th>\n",
       "    </tr>\n",
       "  </thead>\n",
       "  <tbody>\n",
       "    <tr>\n",
       "      <th>0</th>\n",
       "      <td>-1</td>\n",
       "      <td>2</td>\n",
       "      <td>1</td>\n",
       "      <td>5</td>\n",
       "      <td>1</td>\n",
       "      <td>1</td>\n",
       "      <td>1</td>\n",
       "      <td>3</td>\n",
       "      <td>1</td>\n",
       "      <td>4</td>\n",
       "      <td>5</td>\n",
       "      <td>1</td>\n",
       "      <td>1</td>\n",
       "      <td>1</td>\n",
       "      <td>1</td>\n",
       "      <td>85</td>\n",
       "      <td>-1</td>\n",
       "      <td>3</td>\n",
       "      <td>-1</td>\n",
       "    </tr>\n",
       "    <tr>\n",
       "      <th>1</th>\n",
       "      <td>3</td>\n",
       "      <td>5</td>\n",
       "      <td>2</td>\n",
       "      <td>3</td>\n",
       "      <td>1</td>\n",
       "      <td>1</td>\n",
       "      <td>1</td>\n",
       "      <td>1</td>\n",
       "      <td>1</td>\n",
       "      <td>3</td>\n",
       "      <td>3</td>\n",
       "      <td>1</td>\n",
       "      <td>2</td>\n",
       "      <td>5</td>\n",
       "      <td>3</td>\n",
       "      <td>50</td>\n",
       "      <td>-1</td>\n",
       "      <td>0</td>\n",
       "      <td>2</td>\n",
       "    </tr>\n",
       "    <tr>\n",
       "      <th>2</th>\n",
       "      <td>1</td>\n",
       "      <td>1</td>\n",
       "      <td>1</td>\n",
       "      <td>1</td>\n",
       "      <td>1</td>\n",
       "      <td>1</td>\n",
       "      <td>1</td>\n",
       "      <td>1</td>\n",
       "      <td>3</td>\n",
       "      <td>2</td>\n",
       "      <td>1</td>\n",
       "      <td>3</td>\n",
       "      <td>3</td>\n",
       "      <td>2</td>\n",
       "      <td>3</td>\n",
       "      <td>0</td>\n",
       "      <td>-1</td>\n",
       "      <td>0</td>\n",
       "      <td>-1</td>\n",
       "    </tr>\n",
       "    <tr>\n",
       "      <th>3</th>\n",
       "      <td>1</td>\n",
       "      <td>1</td>\n",
       "      <td>2</td>\n",
       "      <td>3</td>\n",
       "      <td>1</td>\n",
       "      <td>1</td>\n",
       "      <td>2</td>\n",
       "      <td>1</td>\n",
       "      <td>4</td>\n",
       "      <td>3</td>\n",
       "      <td>3</td>\n",
       "      <td>1</td>\n",
       "      <td>4</td>\n",
       "      <td>4</td>\n",
       "      <td>1</td>\n",
       "      <td>70</td>\n",
       "      <td>-1</td>\n",
       "      <td>0</td>\n",
       "      <td>-1</td>\n",
       "    </tr>\n",
       "    <tr>\n",
       "      <th>4</th>\n",
       "      <td>2</td>\n",
       "      <td>2</td>\n",
       "      <td>1</td>\n",
       "      <td>5</td>\n",
       "      <td>1</td>\n",
       "      <td>1</td>\n",
       "      <td>1</td>\n",
       "      <td>2</td>\n",
       "      <td>2</td>\n",
       "      <td>5</td>\n",
       "      <td>4</td>\n",
       "      <td>1</td>\n",
       "      <td>4</td>\n",
       "      <td>1</td>\n",
       "      <td>2</td>\n",
       "      <td>70</td>\n",
       "      <td>-1</td>\n",
       "      <td>0</td>\n",
       "      <td>-1</td>\n",
       "    </tr>\n",
       "  </tbody>\n",
       "</table>\n",
       "</div>"
      ],
      "text/plain": [
       "   V202110x  V201103  V201100  V201241  V201008  V201601  V201216  V201416  \\\n",
       "0        -1        2        1        5        1        1        1        3   \n",
       "1         3        5        2        3        1        1        1        1   \n",
       "2         1        1        1        1        1        1        1        1   \n",
       "3         1        1        2        3        1        1        2        1   \n",
       "4         2        2        1        5        1        1        1        2   \n",
       "\n",
       "   V201377  V201511x  V201240  V201602  V201627  V201622  V201651  V201157  \\\n",
       "0        1         4        5        1        1        1        1       85   \n",
       "1        1         3        3        1        2        5        3       50   \n",
       "2        3         2        1        3        3        2        3        0   \n",
       "3        4         3        3        1        4        4        1       70   \n",
       "4        2         5        4        1        4        1        2       70   \n",
       "\n",
       "   V201036  V201628  V201515  \n",
       "0       -1        3       -1  \n",
       "1       -1        0        2  \n",
       "2       -1        0       -1  \n",
       "3       -1        0       -1  \n",
       "4       -1        0       -1  "
      ]
     },
     "execution_count": 45,
     "metadata": {},
     "output_type": "execute_result"
    }
   ],
   "source": [
    "dfNew.head()"
   ]
  },
  {
   "cell_type": "code",
   "execution_count": null,
   "id": "76de0887",
   "metadata": {},
   "outputs": [],
   "source": [
    "dfNew"
   ]
  },
  {
   "cell_type": "code",
   "execution_count": null,
   "id": "3f08323b",
   "metadata": {},
   "outputs": [],
   "source": []
  },
  {
   "cell_type": "code",
   "execution_count": 46,
   "id": "87405a4a",
   "metadata": {},
   "outputs": [],
   "source": [
    "dfNew = dfNew.rename(columns = {'V202110x': 'VFor','V201103': 'VFor2016' , 'V201100': 'Likely2V', 'V201241':'PBetterImmigration', 'V201008':'R2V', 'V201601':'SexualOrientation', 'V201216':'CareWhoWins', 'V201416':'GayMarriage', 'V201377':'TrustMedia', 'V201511x':'LevelOfEducation', 'V201240':'PBetterHealthcare', 'V201602':'JustifiedPViolence', 'V201627':'SelfCensor', 'V201622':'ConcernedPay4Healthcare', 'V201651':'SatisfiedWLife', 'V201157':'FThermometerR', 'V201036':'CandidatePref', 'V201628':'GunsOwned', 'V201515':'DiplomaOrGED'})"
   ]
  },
  {
   "cell_type": "code",
   "execution_count": 47,
   "id": "1c8d1aa6",
   "metadata": {},
   "outputs": [
    {
     "data": {
      "text/html": [
       "<div>\n",
       "<style scoped>\n",
       "    .dataframe tbody tr th:only-of-type {\n",
       "        vertical-align: middle;\n",
       "    }\n",
       "\n",
       "    .dataframe tbody tr th {\n",
       "        vertical-align: top;\n",
       "    }\n",
       "\n",
       "    .dataframe thead th {\n",
       "        text-align: right;\n",
       "    }\n",
       "</style>\n",
       "<table border=\"1\" class=\"dataframe\">\n",
       "  <thead>\n",
       "    <tr style=\"text-align: right;\">\n",
       "      <th></th>\n",
       "      <th>VFor</th>\n",
       "      <th>VFor2016</th>\n",
       "      <th>Likely2V</th>\n",
       "      <th>PBetterImmigration</th>\n",
       "      <th>R2V</th>\n",
       "      <th>SexualOrientation</th>\n",
       "      <th>CareWhoWins</th>\n",
       "      <th>GayMarriage</th>\n",
       "      <th>TrustMedia</th>\n",
       "      <th>LevelOfEducation</th>\n",
       "      <th>PBetterHealthcare</th>\n",
       "      <th>JustifiedPViolence</th>\n",
       "      <th>SelfCensor</th>\n",
       "      <th>ConcernedPay4Healthcare</th>\n",
       "      <th>SatisfiedWLife</th>\n",
       "      <th>FThermometerR</th>\n",
       "      <th>CandidatePref</th>\n",
       "      <th>GunsOwned</th>\n",
       "      <th>DiplomaOrGED</th>\n",
       "    </tr>\n",
       "  </thead>\n",
       "  <tbody>\n",
       "    <tr>\n",
       "      <th>0</th>\n",
       "      <td>-1</td>\n",
       "      <td>2</td>\n",
       "      <td>1</td>\n",
       "      <td>5</td>\n",
       "      <td>1</td>\n",
       "      <td>1</td>\n",
       "      <td>1</td>\n",
       "      <td>3</td>\n",
       "      <td>1</td>\n",
       "      <td>4</td>\n",
       "      <td>5</td>\n",
       "      <td>1</td>\n",
       "      <td>1</td>\n",
       "      <td>1</td>\n",
       "      <td>1</td>\n",
       "      <td>85</td>\n",
       "      <td>-1</td>\n",
       "      <td>3</td>\n",
       "      <td>-1</td>\n",
       "    </tr>\n",
       "    <tr>\n",
       "      <th>1</th>\n",
       "      <td>3</td>\n",
       "      <td>5</td>\n",
       "      <td>2</td>\n",
       "      <td>3</td>\n",
       "      <td>1</td>\n",
       "      <td>1</td>\n",
       "      <td>1</td>\n",
       "      <td>1</td>\n",
       "      <td>1</td>\n",
       "      <td>3</td>\n",
       "      <td>3</td>\n",
       "      <td>1</td>\n",
       "      <td>2</td>\n",
       "      <td>5</td>\n",
       "      <td>3</td>\n",
       "      <td>50</td>\n",
       "      <td>-1</td>\n",
       "      <td>0</td>\n",
       "      <td>2</td>\n",
       "    </tr>\n",
       "    <tr>\n",
       "      <th>2</th>\n",
       "      <td>1</td>\n",
       "      <td>1</td>\n",
       "      <td>1</td>\n",
       "      <td>1</td>\n",
       "      <td>1</td>\n",
       "      <td>1</td>\n",
       "      <td>1</td>\n",
       "      <td>1</td>\n",
       "      <td>3</td>\n",
       "      <td>2</td>\n",
       "      <td>1</td>\n",
       "      <td>3</td>\n",
       "      <td>3</td>\n",
       "      <td>2</td>\n",
       "      <td>3</td>\n",
       "      <td>0</td>\n",
       "      <td>-1</td>\n",
       "      <td>0</td>\n",
       "      <td>-1</td>\n",
       "    </tr>\n",
       "    <tr>\n",
       "      <th>3</th>\n",
       "      <td>1</td>\n",
       "      <td>1</td>\n",
       "      <td>2</td>\n",
       "      <td>3</td>\n",
       "      <td>1</td>\n",
       "      <td>1</td>\n",
       "      <td>2</td>\n",
       "      <td>1</td>\n",
       "      <td>4</td>\n",
       "      <td>3</td>\n",
       "      <td>3</td>\n",
       "      <td>1</td>\n",
       "      <td>4</td>\n",
       "      <td>4</td>\n",
       "      <td>1</td>\n",
       "      <td>70</td>\n",
       "      <td>-1</td>\n",
       "      <td>0</td>\n",
       "      <td>-1</td>\n",
       "    </tr>\n",
       "    <tr>\n",
       "      <th>4</th>\n",
       "      <td>2</td>\n",
       "      <td>2</td>\n",
       "      <td>1</td>\n",
       "      <td>5</td>\n",
       "      <td>1</td>\n",
       "      <td>1</td>\n",
       "      <td>1</td>\n",
       "      <td>2</td>\n",
       "      <td>2</td>\n",
       "      <td>5</td>\n",
       "      <td>4</td>\n",
       "      <td>1</td>\n",
       "      <td>4</td>\n",
       "      <td>1</td>\n",
       "      <td>2</td>\n",
       "      <td>70</td>\n",
       "      <td>-1</td>\n",
       "      <td>0</td>\n",
       "      <td>-1</td>\n",
       "    </tr>\n",
       "  </tbody>\n",
       "</table>\n",
       "</div>"
      ],
      "text/plain": [
       "   VFor  VFor2016  Likely2V  PBetterImmigration  R2V  SexualOrientation  \\\n",
       "0    -1         2         1                   5    1                  1   \n",
       "1     3         5         2                   3    1                  1   \n",
       "2     1         1         1                   1    1                  1   \n",
       "3     1         1         2                   3    1                  1   \n",
       "4     2         2         1                   5    1                  1   \n",
       "\n",
       "   CareWhoWins  GayMarriage  TrustMedia  LevelOfEducation  PBetterHealthcare  \\\n",
       "0            1            3           1                 4                  5   \n",
       "1            1            1           1                 3                  3   \n",
       "2            1            1           3                 2                  1   \n",
       "3            2            1           4                 3                  3   \n",
       "4            1            2           2                 5                  4   \n",
       "\n",
       "   JustifiedPViolence  SelfCensor  ConcernedPay4Healthcare  SatisfiedWLife  \\\n",
       "0                   1           1                        1               1   \n",
       "1                   1           2                        5               3   \n",
       "2                   3           3                        2               3   \n",
       "3                   1           4                        4               1   \n",
       "4                   1           4                        1               2   \n",
       "\n",
       "   FThermometerR  CandidatePref  GunsOwned  DiplomaOrGED  \n",
       "0             85             -1          3            -1  \n",
       "1             50             -1          0             2  \n",
       "2              0             -1          0            -1  \n",
       "3             70             -1          0            -1  \n",
       "4             70             -1          0            -1  "
      ]
     },
     "execution_count": 47,
     "metadata": {},
     "output_type": "execute_result"
    }
   ],
   "source": [
    "dfNew.head()"
   ]
  },
  {
   "cell_type": "code",
   "execution_count": null,
   "id": "90b9a4a4",
   "metadata": {},
   "outputs": [],
   "source": []
  },
  {
   "cell_type": "code",
   "execution_count": null,
   "id": "404a4779",
   "metadata": {},
   "outputs": [],
   "source": [
    "mod = smf.ols(formula='VFor ~ 1 + VFor2016 + Likely2V + PBetterImmigration + R2V + SexualOrientation + CareWhoWins + GayMarriage + TrustMedia + LevelOfEducation + PBetterHealthcare + JustifiedPViolence + SelfCensor + ConcernedPay4Healthcare + SatisfiedWLife + FThermometerR + CandidatePref + GunsOwned + DiplomaOrGED', data = dfNew)\n",
    "res = mod.fit()\n",
    "res.summary()"
   ]
  },
  {
   "cell_type": "code",
   "execution_count": null,
   "id": "7b728074",
   "metadata": {},
   "outputs": [],
   "source": [
    "plt.figure(dpi=150)\n",
    "parties = ['D', 'R']\n",
    "colors = {'-9':'blue', '-8':'red', '-1':'green', '1':'blue', '2':'red', '4':'red', '5':'blue'}\n",
    "plt.scatter(df['V201029'], df['V201029'])\n",
    "\n",
    "plt.xlim(0,100)\n",
    "plt.ylim(0,100)\n",
    "plt.legend(df['V201231x'].values)\n",
    "plt.show()"
   ]
  },
  {
   "cell_type": "code",
   "execution_count": null,
   "id": "90eccd3a",
   "metadata": {},
   "outputs": [],
   "source": [
    "print(\"Test update\")"
   ]
  },
  {
   "cell_type": "code",
   "execution_count": null,
   "id": "561a28b4",
   "metadata": {},
   "outputs": [],
   "source": []
  },
  {
   "cell_type": "code",
   "execution_count": null,
   "id": "354ec463",
   "metadata": {},
   "outputs": [],
   "source": []
  },
  {
   "cell_type": "code",
   "execution_count": 7,
   "id": "58e548e8",
   "metadata": {},
   "outputs": [
    {
     "data": {
      "text/plain": [
       " 1    3537\n",
       " 2    2582\n",
       "-1    1920\n",
       "-9      81\n",
       " 3      74\n",
       " 5      60\n",
       " 4      24\n",
       "-8       2\n",
       "Name: V202110x, dtype: int64"
      ]
     },
     "execution_count": 7,
     "metadata": {},
     "output_type": "execute_result"
    }
   ],
   "source": [
    "dfNew['V202110x'].value_counts()"
   ]
  },
  {
   "cell_type": "code",
   "execution_count": null,
   "id": "ba8cf3c7",
   "metadata": {},
   "outputs": [],
   "source": []
  },
  {
   "cell_type": "code",
   "execution_count": null,
   "id": "84098ff2",
   "metadata": {},
   "outputs": [],
   "source": []
  },
  {
   "cell_type": "code",
   "execution_count": null,
   "id": "a9ba4c9c",
   "metadata": {},
   "outputs": [],
   "source": [
    "loocv = LeaveOneOut()\n",
    "regr = skl_lm.LinearRegression()\n",
    "M = 16\n",
    "pred = [1,2,3,4,5,6,7,8,9,10,11,12,13,14,15,16,17,18]\n",
    "loocv_mse = []\n",
    "\n",
    "for i in range(M):\n",
    "    predMSE = []\n",
    "    for j in pred:\n",
    "        x_poly = PolynomialFeatures(i).fit_transform(dfNew.iloc[:,j].to_numpy().reshape(-1,1))\n",
    "        mse = cross_val_score(regr, x_poly, dfNew.V202110x, cv=loocv, scoring='neg_mean_squared_error').mean()\n",
    "        predMSE.append(-mse)\n",
    "    val = 0\n",
    "    for j in predMSE:\n",
    "        val += j\n",
    "    loocv_mse.append(val)"
   ]
  },
  {
   "cell_type": "code",
   "execution_count": null,
   "id": "1053029e",
   "metadata": {},
   "outputs": [],
   "source": [
    "loocv_mse"
   ]
  },
  {
   "cell_type": "code",
   "execution_count": null,
   "id": "88429de7",
   "metadata": {},
   "outputs": [],
   "source": [
    "from numpy import mean\n",
    "from numpy import std\n",
    "my_preds = [1,2,3,4,5,6,7,8,9,10,11,12,13,14,15,16,17,18]\n",
    "X = dfNew.iloc[:,[1,2,3,4,5,6,7,8,9,10,11,12,13,14,15,16,17,18]]\n",
    "loocv = LeaveOneOut()\n",
    "regr = skl_lm.LinearRegression()\n",
    "scores = cross_val_score(regr, dfNew.iloc[:,[1,2,3,4,5,6,7,8,9,10,11,12,13,14,15,16,17,18]], dfNew['VFor'], scoring='neg_mean_squared_error', cv=loocv, n_jobs=-1)\n",
    "print('Accuracy: %.3f (%.3f)' % (mean(-scores), std(scores)))"
   ]
  },
  {
   "cell_type": "code",
   "execution_count": null,
   "id": "7d028def",
   "metadata": {},
   "outputs": [],
   "source": [
    "mod = skl_lm.LinearRegression()\n",
    "Y_pred = mod.fit(dfNew.iloc[:,[1,2,3,4,5,6,7,8,9,10,11,12,13,14,15,16,17,18]], dfNew['VFor']).predict(dfNew.iloc[:,[1,2,3,4,5,6,7,8,9,10,11,12,13,14,15,16,17,18]])\n",
    "Y_pred[0]"
   ]
  },
  {
   "cell_type": "code",
   "execution_count": 48,
   "id": "6d396d68",
   "metadata": {},
   "outputs": [],
   "source": [
    "from sklearn.model_selection import train_test_split\n",
    "from sklearn.naive_bayes import GaussianNB\n",
    "training_data, testing_data = train_test_split(dfNew, test_size=0.1, random_state=8)"
   ]
  },
  {
   "cell_type": "code",
   "execution_count": null,
   "id": "28ffcfb8",
   "metadata": {},
   "outputs": [],
   "source": []
  },
  {
   "cell_type": "code",
   "execution_count": 51,
   "id": "646eace3",
   "metadata": {},
   "outputs": [],
   "source": [
    "x = dfNew.iloc[:,[1,2,3,4,5,6,7,8,9,10,11,12,13,14,15,16,17,18]]\n",
    "y = dfNew.iloc[:,[0]]"
   ]
  },
  {
   "cell_type": "code",
   "execution_count": 52,
   "id": "58d0f5c4",
   "metadata": {},
   "outputs": [],
   "source": [
    "X_t, X_test, Y_t, Y_test = train_test_split(x, y, test_size=0.1)"
   ]
  },
  {
   "cell_type": "code",
   "execution_count": 69,
   "id": "e38d3e42",
   "metadata": {},
   "outputs": [
    {
     "name": "stderr",
     "output_type": "stream",
     "text": [
      "C:\\Users\\JP\\anaconda3\\lib\\site-packages\\sklearn\\utils\\validation.py:63: DataConversionWarning: A column-vector y was passed when a 1d array was expected. Please change the shape of y to (n_samples, ), for example using ravel().\n",
      "  return f(*args, **kwargs)\n"
     ]
    },
    {
     "name": "stdout",
     "output_type": "stream",
     "text": [
      "Test Error =  23.040794417606016 %\n"
     ]
    },
    {
     "name": "stderr",
     "output_type": "stream",
     "text": [
      "C:\\Users\\JP\\anaconda3\\lib\\site-packages\\sklearn\\linear_model\\_logistic.py:763: ConvergenceWarning: lbfgs failed to converge (status=1):\n",
      "STOP: TOTAL NO. of ITERATIONS REACHED LIMIT.\n",
      "\n",
      "Increase the number of iterations (max_iter) or scale the data as shown in:\n",
      "    https://scikit-learn.org/stable/modules/preprocessing.html\n",
      "Please also refer to the documentation for alternative solver options:\n",
      "    https://scikit-learn.org/stable/modules/linear_model.html#logistic-regression\n",
      "  n_iter_i = _check_optimize_result(\n"
     ]
    }
   ],
   "source": [
    "clf = skl_lm.LogisticRegression(solver='lbfgs')\n",
    "mod = clf.fit(X_t, Y_t)\n",
    "print(\"Test Error = \", (1 - mod.score(X_t, Y_t)) * 100, \"%\")"
   ]
  },
  {
   "cell_type": "code",
   "execution_count": 68,
   "id": "8d81e848",
   "metadata": {},
   "outputs": [
    {
     "name": "stderr",
     "output_type": "stream",
     "text": [
      "C:\\Users\\JP\\anaconda3\\lib\\site-packages\\sklearn\\utils\\validation.py:63: DataConversionWarning: A column-vector y was passed when a 1d array was expected. Please change the shape of y to (n_samples, ), for example using ravel().\n",
      "  return f(*args, **kwargs)\n"
     ]
    },
    {
     "name": "stdout",
     "output_type": "stream",
     "text": [
      "Test Error =  23.040794417606016 %\n"
     ]
    },
    {
     "name": "stderr",
     "output_type": "stream",
     "text": [
      "C:\\Users\\JP\\anaconda3\\lib\\site-packages\\sklearn\\linear_model\\_logistic.py:763: ConvergenceWarning: lbfgs failed to converge (status=1):\n",
      "STOP: TOTAL NO. of ITERATIONS REACHED LIMIT.\n",
      "\n",
      "Increase the number of iterations (max_iter) or scale the data as shown in:\n",
      "    https://scikit-learn.org/stable/modules/preprocessing.html\n",
      "Please also refer to the documentation for alternative solver options:\n",
      "    https://scikit-learn.org/stable/modules/linear_model.html#logistic-regression\n",
      "  n_iter_i = _check_optimize_result(\n"
     ]
    }
   ],
   "source": [
    "clf2 = GaussianNB()\n",
    "mod2 = clf.fit(X_t, Y_t)\n",
    "print(\"Test Error = \", (1 - mod2.score(X_t, Y_t)) * 100, \"%\")"
   ]
  },
  {
   "cell_type": "code",
   "execution_count": 61,
   "id": "41f438a8",
   "metadata": {},
   "outputs": [
    {
     "ename": "SyntaxError",
     "evalue": "unexpected EOF while parsing (<ipython-input-61-344c619431f2>, line 1)",
     "output_type": "error",
     "traceback": [
      "\u001b[1;36m  File \u001b[1;32m\"<ipython-input-61-344c619431f2>\"\u001b[1;36m, line \u001b[1;32m1\u001b[0m\n\u001b[1;33m    print(clf.predict([[X_test]])\u001b[0m\n\u001b[1;37m                                 ^\u001b[0m\n\u001b[1;31mSyntaxError\u001b[0m\u001b[1;31m:\u001b[0m unexpected EOF while parsing\n"
     ]
    }
   ],
   "source": [
    "print(clf.predict([[X_test]])"
   ]
  },
  {
   "cell_type": "code",
   "execution_count": 70,
   "id": "89df7c85",
   "metadata": {},
   "outputs": [
    {
     "name": "stderr",
     "output_type": "stream",
     "text": [
      "C:\\Users\\JP\\anaconda3\\lib\\site-packages\\sklearn\\utils\\validation.py:63: DataConversionWarning: A column-vector y was passed when a 1d array was expected. Please change the shape of y to (n_samples, ), for example using ravel().\n",
      "  return f(*args, **kwargs)\n",
      "C:\\Users\\JP\\anaconda3\\lib\\site-packages\\sklearn\\linear_model\\_logistic.py:763: ConvergenceWarning: lbfgs failed to converge (status=1):\n",
      "STOP: TOTAL NO. of ITERATIONS REACHED LIMIT.\n",
      "\n",
      "Increase the number of iterations (max_iter) or scale the data as shown in:\n",
      "    https://scikit-learn.org/stable/modules/preprocessing.html\n",
      "Please also refer to the documentation for alternative solver options:\n",
      "    https://scikit-learn.org/stable/modules/linear_model.html#logistic-regression\n",
      "  n_iter_i = _check_optimize_result(\n"
     ]
    },
    {
     "data": {
      "text/plain": [
       "array([ 1, -1,  1, -1, -1,  1,  1,  1,  1,  2,  1,  2,  2,  2,  1,  1,  1,\n",
       "        1,  2,  1,  2,  2, -1,  1,  2,  1,  1,  2,  2,  1,  2, -1,  2,  1,\n",
       "       -1,  2,  2,  1,  2,  1,  1,  1,  1, -1,  1,  2,  2,  1,  1, -1, -1,\n",
       "        2,  2,  2,  2,  2, -1,  2,  1,  2, -1,  1,  2,  1,  2,  1,  1,  1,\n",
       "        1,  2, -1,  2,  2,  1,  1,  1,  2,  2,  1,  2,  1,  2,  1,  2,  1,\n",
       "        2, -1, -1, -1,  2, -1,  2,  1,  2, -1, -1,  1,  1, -1,  1,  1,  2,\n",
       "        1,  1,  1,  1,  1,  1,  1, -1,  2,  1,  1,  1,  1,  1,  2,  1,  1,\n",
       "       -1,  2, -1,  1,  2,  2,  1,  2,  2,  1,  1,  2,  1,  1,  1,  1,  1,\n",
       "        1, -1,  1,  2,  1,  1, -1, -1,  2,  1,  1,  1, -1,  2,  2,  1,  1,\n",
       "       -1,  1,  1,  1,  1,  2,  2,  1,  1,  1,  1,  1,  1,  1,  1,  1,  2,\n",
       "        1,  1,  1, -1, -1,  2, -1,  1,  1,  2, -1,  2, -1,  2,  1,  1,  2,\n",
       "        2, -1,  2,  1, -1,  2,  2,  2,  1, -1,  2,  2,  1,  1, -1,  1,  1,\n",
       "        1,  2,  1, -1, -1,  1,  2,  2,  2,  2,  1,  2,  2,  1,  2,  1,  1,\n",
       "        1,  1,  1, -1,  2,  1,  1,  1,  1, -1,  1,  1, -1,  1,  1,  2,  2,\n",
       "       -1,  1,  1, -1,  1, -1, -1, -1, -1,  2,  1,  1,  1,  1,  2,  1,  1,\n",
       "        1, -1,  2,  1,  2,  1, -1,  1,  2,  1,  2,  1,  2,  1,  2,  2,  1,\n",
       "        2,  2,  2,  2,  1,  1,  2,  1,  2,  2,  1,  2,  1,  2, -1, -1,  2,\n",
       "        2,  1,  1,  1,  1,  2,  1,  1,  2, -1,  1,  1,  2,  2,  1,  1, -1,\n",
       "       -1,  1,  1,  2, -1, -1,  1,  1,  2,  1, -1,  2,  1,  1,  1,  1, -1,\n",
       "       -1,  1,  1,  2,  1,  1,  2,  2,  1,  2,  2, -1, -1,  1,  1,  2,  2,\n",
       "        2,  2,  2,  2,  1, -1,  2,  1,  1,  1,  1,  2,  2, -1, -1, -1,  1,\n",
       "        1,  2,  2,  2,  1, -1,  2,  2,  2,  1,  1,  2,  1, -1, -1,  2, -1,\n",
       "        1, -1,  1,  2,  2,  2,  1,  2,  1,  2, -1, -1,  2,  2,  1,  1, -1,\n",
       "        1,  2,  1,  2,  2, -1,  2,  1,  2,  1,  1,  2,  1,  2,  1,  1,  1,\n",
       "        1,  1,  2,  1, -1,  1,  1, -1,  2, -1,  1,  2,  1,  1,  2,  1,  2,\n",
       "        1, -1,  2,  1,  1,  1,  1, -1,  1,  2,  1,  1,  1,  2,  1, -1,  2,\n",
       "        2,  1,  1,  2, -1,  1,  1, -1, -1,  1, -1, -1,  2,  2, -1,  2, -1,\n",
       "        1,  2,  1,  1,  1, -1,  1,  2, -1,  2,  1,  2,  1,  2, -1,  1,  2,\n",
       "        1,  2,  2,  2,  2,  2,  2,  1,  1,  1, -1,  1,  1, -1,  2, -1,  1,\n",
       "        2, -1,  2,  1,  2,  1,  2,  2,  1,  2,  1,  1,  1,  2,  1,  2,  1,\n",
       "        1,  1,  1,  1,  2,  1,  1, -1,  2,  2, -1,  1,  2,  1,  2,  1,  2,\n",
       "        2,  2,  2,  1,  2,  1,  1,  2,  2, -1,  1,  1,  1,  1,  2,  1,  2,\n",
       "        1,  1, -1, -1,  1,  2,  1, -1, -1,  2,  2,  1,  2,  1,  2,  1,  2,\n",
       "        1,  2,  1,  1, -1,  1,  1,  1,  1, -1,  1,  2,  2, -1,  1,  2, -1,\n",
       "        1,  2,  1,  1,  1,  1,  1, -1,  1,  2, -1,  1,  2,  1,  2,  2,  1,\n",
       "       -1, -1,  2,  1,  1,  1, -1,  1, -1,  2,  1,  1,  2,  1,  1,  2, -1,\n",
       "       -1,  1,  2,  2,  2,  2,  2, -1,  2,  1,  1, -1,  2,  2,  1,  2,  2,\n",
       "        1, -1, -1, -1,  1,  2,  2,  1,  2,  1,  1,  2,  2,  2,  2,  1,  1,\n",
       "        1,  2,  1,  2,  2,  2,  2,  2,  2,  1, -1,  1,  2,  1,  1, -1,  1,\n",
       "        2,  1,  2,  1,  1,  1,  2,  1,  1,  2,  1,  1,  2,  1,  2,  1,  2,\n",
       "        1,  1,  2,  1,  1,  2, -1,  1,  2,  1,  2,  1, -1,  2,  1,  1,  2,\n",
       "       -1, -1,  1, -1,  2,  1,  2, -1, -1,  1, -1,  1,  2,  1,  1, -1,  1,\n",
       "        2, -1,  1,  1,  2,  2,  2,  1,  2,  1,  2, -1,  1,  1, -1, -1, -1,\n",
       "        2,  1, -1,  2,  2, -1,  1,  2,  1,  1,  1,  1,  1,  1,  1, -1,  2,\n",
       "        2,  1, -1,  2,  2,  2,  1, -1,  1,  1,  1, -1, -1,  2,  1,  1, -1,\n",
       "        2,  2,  1,  2,  2,  1,  1,  1,  2, -1,  2, -1,  2,  1,  1,  2,  2,\n",
       "        1,  2, -1,  1,  2,  2, -1, -1, -1,  1,  1,  2,  2,  1,  1,  2,  1,\n",
       "       -1,  2,  1,  1,  2,  2,  2,  1,  2,  2,  2,  2,  1,  2,  2,  2,  2,\n",
       "        2,  2,  2, -1,  1, -1,  2,  2,  1,  2,  2,  2], dtype=int64)"
      ]
     },
     "execution_count": 70,
     "metadata": {},
     "output_type": "execute_result"
    }
   ],
   "source": [
    "clf.fit(X_t, Y_t)\n",
    "clf.predict(X_test)"
   ]
  },
  {
   "cell_type": "code",
   "execution_count": 64,
   "id": "b89d1909",
   "metadata": {},
   "outputs": [],
   "source": [
    "preds = clf.predict(X_test)"
   ]
  },
  {
   "cell_type": "code",
   "execution_count": 67,
   "id": "857c4de4",
   "metadata": {},
   "outputs": [
    {
     "name": "stdout",
     "output_type": "stream",
     "text": [
      "[ 1 -1  1 -1 -1  1  1  1  1  2  1  2  2  2  1  1  1  1  2  1  2  2 -1  1\n",
      "  2  1  1  2  2  1  2 -1  2  1 -1  2  2  1  2  1  1  1  1 -1  1  2  2  1\n",
      "  1 -1 -1  2  2  2  2  2 -1  2  1  2 -1  1  2  1  2  1  1  1  1  2 -1  2\n",
      "  2  1  1  1  2  2  1  2  1  2  1  2  1  2 -1 -1 -1  2 -1  2  1  2 -1 -1\n",
      "  1  1 -1  1  1  2  1  1  1  1  1  1  1 -1  2  1  1  1  1  1  2  1  1 -1\n",
      "  2 -1  1  2  2  1  2  2  1  1  2  1  1  1  1  1  1 -1  1  2  1  1 -1 -1\n",
      "  2  1  1  1 -1  2  2  1  1 -1  1  1  1  1  2  2  1  1  1  1  1  1  1  1\n",
      "  1  2  1  1  1 -1 -1  2 -1  1  1  2 -1  2 -1  2  1  1  2  2 -1  2  1 -1\n",
      "  2  2  2  1 -1  2  2  1  1 -1  1  1  1  2  1 -1 -1  1  2  2  2  2  1  2\n",
      "  2  1  2  1  1  1  1  1 -1  2  1  1  1  1 -1  1  1 -1  1  1  2  2 -1  1\n",
      "  1 -1  1 -1 -1 -1 -1  2  1  1  1  1  2  1  1  1 -1  2  1  2  1 -1  1  2\n",
      "  1  2  1  2  1  2  2  1  2  2  2  2  1  1  2  1  2  2  1  2  1  2 -1 -1\n",
      "  2  2  1  1  1  1  2  1  1  2 -1  1  1  2  2  1  1 -1 -1  1  1  2 -1 -1\n",
      "  1  1  2  1 -1  2  1  1  1  1 -1 -1  1  1  2  1  1  2  2  1  2  2 -1 -1\n",
      "  1  1  2  2  2  2  2  2  1 -1  2  1  1  1  1  2  2 -1 -1 -1  1  1  2  2\n",
      "  2  1 -1  2  2  2  1  1  2  1 -1 -1  2 -1  1 -1  1  2  2  2  1  2  1  2\n",
      " -1 -1  2  2  1  1 -1  1  2  1  2  2 -1  2  1  2  1  1  2  1  2  1  1  1\n",
      "  1  1  2  1 -1  1  1 -1  2 -1  1  2  1  1  2  1  2  1 -1  2  1  1  1  1\n",
      " -1  1  2  1  1  1  2  1 -1  2  2  1  1  2 -1  1  1 -1 -1  1 -1 -1  2  2\n",
      " -1  2 -1  1  2  1  1  1 -1  1  2 -1  2  1  2  1  2 -1  1  2  1  2  2  2\n",
      "  2  2  2  1  1  1 -1  1  1 -1  2 -1  1  2 -1  2  1  2  1  2  2  1  2  1\n",
      "  1  1  2  1  2  1  1  1  1  1  2  1  1 -1  2  2 -1  1  2  1  2  1  2  2\n",
      "  2  2  1  2  1  1  2  2 -1  1  1  1  1  2  1  2  1  1 -1 -1  1  2  1 -1\n",
      " -1  2  2  1  2  1  2  1  2  1  2  1  1 -1  1  1  1  1 -1  1  2  2 -1  1\n",
      "  2 -1  1  2  1  1  1  1  1 -1  1  2 -1  1  2  1  2  2  1 -1 -1  2  1  1\n",
      "  1 -1  1 -1  2  1  1  2  1  1  2 -1 -1  1  2  2  2  2  2 -1  2  1  1 -1\n",
      "  2  2  1  2  2  1 -1 -1 -1  1  2  2  1  2  1  1  2  2  2  2  1  1  1  2\n",
      "  1  2  2  2  2  2  2  1 -1  1  2  1  1 -1  1  2  1  2  1  1  1  2  1  1\n",
      "  2  1  1  2  1  2  1  2  1  1  2  1  1  2 -1  1  2  1  2  1 -1  2  1  1\n",
      "  2 -1 -1  1 -1  2  1  2 -1 -1  1 -1  1  2  1  1 -1  1  2 -1  1  1  2  2\n",
      "  2  1  2  1  2 -1  1  1 -1 -1 -1  2  1 -1  2  2 -1  1  2  1  1  1  1  1\n",
      "  1  1 -1  2  2  1 -1  2  2  2  1 -1  1  1  1 -1 -1  2  1  1 -1  2  2  1\n",
      "  2  2  1  1  1  2 -1  2 -1  2  1  1  2  2  1  2 -1  1  2  2 -1 -1 -1  1\n",
      "  1  2  2  1  1  2  1 -1  2  1  1  2  2  2  1  2  2  2  2  1  2  2  2  2\n",
      "  2  2  2 -1  1 -1  2  2  1  2  2  2]\n"
     ]
    }
   ],
   "source": [
    "print(preds)"
   ]
  },
  {
   "cell_type": "code",
   "execution_count": 65,
   "id": "162fa743",
   "metadata": {},
   "outputs": [
    {
     "name": "stdout",
     "output_type": "stream",
     "text": [
      "0.751207729468599\n"
     ]
    }
   ],
   "source": [
    "score = clf.score(X_test, Y_test)\n",
    "print(score)"
   ]
  },
  {
   "cell_type": "code",
   "execution_count": 66,
   "id": "6a399118",
   "metadata": {},
   "outputs": [
    {
     "name": "stdout",
     "output_type": "stream",
     "text": [
      "[[  0   2   2   4   0   0]\n",
      " [  0  95  49  49   0   0]\n",
      " [  0  28 301  18   0   0]\n",
      " [  0  23  16 226   0   0]\n",
      " [  0   1   4   1   0   0]\n",
      " [  0   2   5   2   0   0]]\n"
     ]
    }
   ],
   "source": [
    "from sklearn import metrics\n",
    "cm = metrics.confusion_matrix(Y_test, preds)\n",
    "print(cm)"
   ]
  },
  {
   "cell_type": "code",
   "execution_count": null,
   "id": "693e8373",
   "metadata": {},
   "outputs": [],
   "source": []
  }
 ],
 "metadata": {
  "kernelspec": {
   "display_name": "Python 3",
   "language": "python",
   "name": "python3"
  },
  "language_info": {
   "codemirror_mode": {
    "name": "ipython",
    "version": 3
   },
   "file_extension": ".py",
   "mimetype": "text/x-python",
   "name": "python",
   "nbconvert_exporter": "python",
   "pygments_lexer": "ipython3",
   "version": "3.8.8"
  }
 },
 "nbformat": 4,
 "nbformat_minor": 5
}
