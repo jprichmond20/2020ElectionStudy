{
 "cells": [
  {
   "cell_type": "code",
   "execution_count": 3,
   "id": "9ead183c",
   "metadata": {},
   "outputs": [
    {
     "name": "stderr",
     "output_type": "stream",
     "text": [
      "<ipython-input-3-645cd4fdeda9>:13: UserWarning: \n",
      "The dash_html_components package is deprecated. Please replace\n",
      "`import dash_html_components as html` with `from dash import html`\n",
      "  import dash_html_components as html\n"
     ]
    }
   ],
   "source": [
    "# Basics and Plotting\n",
    "import pandas as pd\n",
    "import numpy as np\n",
    "import scipy as scp\n",
    "import matplotlib.pyplot as plt\n",
    "from mpl_toolkits import mplot3d\n",
    "import seaborn as sns\n",
    "from itertools import chain, combinations\n",
    "import plotly.express as px\n",
    "import plotly.graph_objects as go\n",
    "import dash\n",
    "from dash import dcc\n",
    "import dash_html_components as html\n",
    "from dash.dependencies import Input, Output\n",
    "\n",
    "# Sklearn Models\n",
    "import sklearn.linear_model as skl_lm\n",
    "from sklearn.linear_model import LinearRegression, LogisticRegression\n",
    "from sklearn.linear_model import Lasso, Ridge\n",
    "from sklearn.metrics import mean_squared_error\n",
    "from sklearn.model_selection import train_test_split, LeaveOneOut, KFold, cross_val_score, cross_validate\n",
    "from sklearn.preprocessing import PolynomialFeatures\n",
    "from sklearn.neighbors import KNeighborsRegressor, KNeighborsClassifier\n",
    "from sklearn.preprocessing import scale\n",
    "from sklearn.decomposition import PCA\n",
    "from sklearn.cross_decomposition import PLSRegression\n",
    "\n",
    "# Alternative models\n",
    "import statsmodels.api as sm\n",
    "from statsmodels.stats.outliers_influence import variance_inflation_factor\n",
    "import statsmodels.formula.api as smf"
   ]
  },
  {
   "cell_type": "code",
   "execution_count": 4,
   "id": "91f180c5",
   "metadata": {},
   "outputs": [
    {
     "name": "stderr",
     "output_type": "stream",
     "text": [
      "C:\\Users\\JP\\anaconda3\\lib\\site-packages\\IPython\\core\\interactiveshell.py:3165: DtypeWarning: Columns (15,17,18,19,21,22,23,25,26,27,29,30,31,33,34,35,37,38,1508,1509) have mixed types.Specify dtype option on import or set low_memory=False.\n",
      "  has_raised = await self.run_ast_nodes(code_ast.body, cell_name,\n"
     ]
    }
   ],
   "source": [
    "dataset = pd.read_csv(\"https://raw.githubusercontent.com/jprichmond20/2020ElectionStudy/main/anes_timeseries_2020_csv_20220210.csv\")"
   ]
  },
  {
   "cell_type": "code",
   "execution_count": null,
   "id": "bf32ca6d",
   "metadata": {},
   "outputs": [],
   "source": [
    "external_stylesheets = ['https://codepen.io/chriddyp/pen/bWLwgP.css']\n",
    "app = dash.Dash(__name__, external_stylesheets=external_stylesheets)\n",
    "server = app.server\n",
    "app.config.suppress_callback_exceptions = True"
   ]
  },
  {
   "cell_type": "code",
   "execution_count": null,
   "id": "ed7e0473",
   "metadata": {},
   "outputs": [],
   "source": []
  },
  {
   "cell_type": "code",
   "execution_count": null,
   "id": "de3e2713",
   "metadata": {},
   "outputs": [],
   "source": []
  },
  {
   "cell_type": "code",
   "execution_count": null,
   "id": "6c640ce0",
   "metadata": {},
   "outputs": [],
   "source": []
  },
  {
   "cell_type": "code",
   "execution_count": null,
   "id": "1d848e4c",
   "metadata": {},
   "outputs": [],
   "source": []
  },
  {
   "cell_type": "code",
   "execution_count": null,
   "id": "a5ea3f4c",
   "metadata": {},
   "outputs": [],
   "source": []
  },
  {
   "cell_type": "code",
   "execution_count": null,
   "id": "1e7ca446",
   "metadata": {},
   "outputs": [],
   "source": []
  },
  {
   "cell_type": "code",
   "execution_count": null,
   "id": "f23d9df9",
   "metadata": {},
   "outputs": [],
   "source": []
  },
  {
   "cell_type": "code",
   "execution_count": null,
   "id": "7ed32c47",
   "metadata": {},
   "outputs": [],
   "source": []
  },
  {
   "cell_type": "code",
   "execution_count": null,
   "id": "6db09b60",
   "metadata": {},
   "outputs": [],
   "source": []
  },
  {
   "cell_type": "code",
   "execution_count": null,
   "id": "08c2deee",
   "metadata": {},
   "outputs": [],
   "source": []
  },
  {
   "cell_type": "code",
   "execution_count": null,
   "id": "9af8f5de",
   "metadata": {},
   "outputs": [],
   "source": []
  },
  {
   "cell_type": "code",
   "execution_count": null,
   "id": "623e1b95",
   "metadata": {},
   "outputs": [],
   "source": []
  },
  {
   "cell_type": "code",
   "execution_count": null,
   "id": "06646ec5",
   "metadata": {},
   "outputs": [],
   "source": []
  },
  {
   "cell_type": "code",
   "execution_count": null,
   "id": "78a36388",
   "metadata": {},
   "outputs": [],
   "source": []
  },
  {
   "cell_type": "code",
   "execution_count": null,
   "id": "a13908c3",
   "metadata": {},
   "outputs": [],
   "source": []
  },
  {
   "cell_type": "code",
   "execution_count": null,
   "id": "7507bd57",
   "metadata": {},
   "outputs": [],
   "source": []
  },
  {
   "cell_type": "code",
   "execution_count": null,
   "id": "2fc64ded",
   "metadata": {},
   "outputs": [],
   "source": []
  },
  {
   "cell_type": "code",
   "execution_count": null,
   "id": "447f5d68",
   "metadata": {},
   "outputs": [],
   "source": []
  },
  {
   "cell_type": "code",
   "execution_count": null,
   "id": "de05f03c",
   "metadata": {},
   "outputs": [],
   "source": []
  },
  {
   "cell_type": "code",
   "execution_count": null,
   "id": "f44cd195",
   "metadata": {},
   "outputs": [],
   "source": []
  },
  {
   "cell_type": "code",
   "execution_count": null,
   "id": "b39fd6a1",
   "metadata": {},
   "outputs": [],
   "source": [
    "app.layout = html.Div(children=[\\\n",
    "    html.Div(children=[\n",
    "        html.H1(children=\"Baseball Statistics\", style={'textAlign':'center'},className=\"header-text\"),\n",
    "        html.H2(children=\"JP Richmond and Alex Dufour\",style={'fontSize':\"30px\",'textAlign':'center'},className=\"names-header\"),\\\n",
    "]),\n",
    "    html.Div(\\\n",
    "        children=[html.Div(children='yearID',\\\n",
    "                                style={'fontSize':\"20px\"},\\\n",
    "                                className='menu-title-bar'),\\\n",
    "                                dcc.Dropdown(id='year-selection',\\\n",
    "                                options=[{'label':yearID,'value':yearID}\\\n",
    "                                for yearID in baseball2.yearID.unique()],\\\n",
    "                                value='2016',\\\n",
    "                                clearable=False,\\\n",
    "                                searchable=False,\\\n",
    "                                className='dropdown',\\\n",
    "                                style={'fontSize':\"20px\",'textAlign':'center'})],\\\n",
    "             className='menu'),\n",
    "    html.Div(children=[\\\n",
    "        html.Div(\\\n",
    "            children = dcc.Graph(\\\n",
    "                    id = 'barHR',\\\n",
    "                    figure = fig2,\\\n",
    "                  #  config={\"displayModeBar\": False},\n",
    "                ),\\\n",
    "                style={'width': '50%', 'display': 'inline-block'},\\\n",
    "            ),\\\n",
    "                html.Div(\\\n",
    "                children = dcc.Graph(\\\n",
    "                    id = 'barHRLg',\\\n",
    "                    figure = fig1,\\\n",
    "                    #config={\"displayModeBar\": False},\n",
    "                ),\\\n",
    "                style={'width': '50%', 'display': 'inline-block'},\\\n",
    "            ),\\\n",
    "                html.Div(\\\n",
    "                children = dcc.Graph(\\\n",
    "                    id = 'barSO',\\\n",
    "                    figure = fig3,\\\n",
    "                    #config={\"displayModeBar\": False},\n",
    "                ),\\\n",
    "                         style={'width': '100%', 'display': 'inline-block'},),\\\n",
    "])])"
   ]
  },
  {
   "cell_type": "code",
   "execution_count": null,
   "id": "c19587f9",
   "metadata": {},
   "outputs": [],
   "source": [
    "@app.callback(Output(\"barHR\",\"figure\"),Input(\"years\",\"value\"))\n",
    "def update_charts(years):\n",
    "    filtered_data = baseball2[baseball2[\"yearID\"] == years]\n",
    "    barHR = px.bar(filtered_data,x=\"teamID\",y=\"HR\",title=\"Home Runs by Team\",color_continuous_scale=px.colors.sequential.Plasma)\n",
    "    barHR.update_layout(xaxis_tickangle=20,title=dict(x=0.5),xaxis_tickfont=dict(size=8),yaxis_tickfont=dict(size=8),paper_bgcolor=\"LightSteelBlue\",margin=dict(l=30,r=20,t=50,b=20))\n",
    "    return barHR\n",
    "@app.callback(Output(\"barHRLg\",\"figure\"),Input(\"years\",\"value\"))\n",
    "def update_charts(years):\n",
    "    filtered_data = baseball2[baseball2[\"yearID\"] == years]\n",
    "    barHRLg = px.bar(filtered_data,x=\"lgID\",y=\"HR\",title=\"Home Runs by League\",color_continuous_scale=px.colors.sequential.Plasma)\n",
    "    barHRLg.update_layout(xaxis_tickangle=20,title=dict(x=0.5),xaxis_tickfont=dict(size=8),yaxis_tickfont=dict(size=8),paper_bgcolor=\"LightSteelBlue\",margin=dict(l=30,r=20,t=50,b=20))\n",
    "    return barHRLg\n",
    "@app.callback(Output(\"barSO\",\"figure\"),Input(\"years\",\"value\"))\n",
    "def update_charts(years):\n",
    "    filtered_data = baseball2[baseball2[\"yearID\"] == years]\n",
    "    barSO = px.bar(filtered_data,x=\"teamID\",y=\"SO\",title=\"Strikeouts by Team\",color_continuous_scale=px.colors.sequential.Plasma)\n",
    "    barSO.update_layout(xaxis_tickangle=20,title=dict(x=0.5),xaxis_tickfont=dict(size=8),yaxis_tickfont=dict(size=8),paper_bgcolor=\"LightSteelBlue\",margin=dict(l=30,r=20,t=50,b=20))\n",
    "    return barSO"
   ]
  },
  {
   "cell_type": "code",
   "execution_count": null,
   "id": "e8d4d067",
   "metadata": {},
   "outputs": [],
   "source": []
  },
  {
   "cell_type": "code",
   "execution_count": null,
   "id": "71be2548",
   "metadata": {},
   "outputs": [],
   "source": []
  },
  {
   "cell_type": "code",
   "execution_count": null,
   "id": "6c97a9bc",
   "metadata": {},
   "outputs": [],
   "source": []
  },
  {
   "cell_type": "code",
   "execution_count": null,
   "id": "a2ba8893",
   "metadata": {},
   "outputs": [],
   "source": []
  },
  {
   "cell_type": "code",
   "execution_count": null,
   "id": "5d019c9f",
   "metadata": {},
   "outputs": [],
   "source": []
  },
  {
   "cell_type": "code",
   "execution_count": null,
   "id": "d5114648",
   "metadata": {},
   "outputs": [],
   "source": []
  },
  {
   "cell_type": "code",
   "execution_count": null,
   "id": "ce92e60c",
   "metadata": {},
   "outputs": [],
   "source": []
  },
  {
   "cell_type": "code",
   "execution_count": null,
   "id": "93621d05",
   "metadata": {},
   "outputs": [],
   "source": []
  },
  {
   "cell_type": "code",
   "execution_count": null,
   "id": "2fd250ed",
   "metadata": {},
   "outputs": [],
   "source": []
  },
  {
   "cell_type": "code",
   "execution_count": null,
   "id": "f59ec86b",
   "metadata": {},
   "outputs": [],
   "source": []
  },
  {
   "cell_type": "code",
   "execution_count": null,
   "id": "cdf81d5b",
   "metadata": {},
   "outputs": [],
   "source": []
  },
  {
   "cell_type": "code",
   "execution_count": null,
   "id": "7a289427",
   "metadata": {},
   "outputs": [],
   "source": []
  },
  {
   "cell_type": "code",
   "execution_count": null,
   "id": "4cf87654",
   "metadata": {},
   "outputs": [],
   "source": []
  },
  {
   "cell_type": "code",
   "execution_count": null,
   "id": "3470150b",
   "metadata": {},
   "outputs": [],
   "source": []
  },
  {
   "cell_type": "code",
   "execution_count": null,
   "id": "aa589538",
   "metadata": {},
   "outputs": [],
   "source": []
  },
  {
   "cell_type": "code",
   "execution_count": null,
   "id": "4a0fd3e7",
   "metadata": {},
   "outputs": [],
   "source": []
  },
  {
   "cell_type": "code",
   "execution_count": null,
   "id": "dd243aba",
   "metadata": {},
   "outputs": [],
   "source": []
  },
  {
   "cell_type": "code",
   "execution_count": null,
   "id": "0f4bc9df",
   "metadata": {},
   "outputs": [],
   "source": []
  },
  {
   "cell_type": "code",
   "execution_count": null,
   "id": "b295c2d2",
   "metadata": {},
   "outputs": [],
   "source": []
  },
  {
   "cell_type": "code",
   "execution_count": null,
   "id": "86f52741",
   "metadata": {},
   "outputs": [],
   "source": []
  },
  {
   "cell_type": "code",
   "execution_count": null,
   "id": "fbdd0044",
   "metadata": {},
   "outputs": [],
   "source": []
  },
  {
   "cell_type": "code",
   "execution_count": null,
   "id": "daa124d6",
   "metadata": {},
   "outputs": [],
   "source": []
  },
  {
   "cell_type": "code",
   "execution_count": null,
   "id": "ad923da2",
   "metadata": {},
   "outputs": [],
   "source": []
  },
  {
   "cell_type": "code",
   "execution_count": null,
   "id": "319688e4",
   "metadata": {},
   "outputs": [],
   "source": []
  },
  {
   "cell_type": "code",
   "execution_count": null,
   "id": "c0296619",
   "metadata": {},
   "outputs": [],
   "source": []
  },
  {
   "cell_type": "code",
   "execution_count": null,
   "id": "5e2f1164",
   "metadata": {},
   "outputs": [],
   "source": []
  },
  {
   "cell_type": "code",
   "execution_count": null,
   "id": "7f321a17",
   "metadata": {},
   "outputs": [],
   "source": []
  },
  {
   "cell_type": "code",
   "execution_count": null,
   "id": "a7c2a199",
   "metadata": {},
   "outputs": [],
   "source": []
  },
  {
   "cell_type": "code",
   "execution_count": null,
   "id": "4d7e1a6d",
   "metadata": {},
   "outputs": [],
   "source": []
  },
  {
   "cell_type": "code",
   "execution_count": null,
   "id": "7935c536",
   "metadata": {},
   "outputs": [],
   "source": []
  },
  {
   "cell_type": "code",
   "execution_count": null,
   "id": "61c92143",
   "metadata": {},
   "outputs": [],
   "source": []
  },
  {
   "cell_type": "code",
   "execution_count": null,
   "id": "1b9a0f70",
   "metadata": {},
   "outputs": [],
   "source": []
  },
  {
   "cell_type": "code",
   "execution_count": null,
   "id": "ca7e9bcb",
   "metadata": {},
   "outputs": [],
   "source": []
  },
  {
   "cell_type": "code",
   "execution_count": null,
   "id": "1da4d3c8",
   "metadata": {},
   "outputs": [],
   "source": []
  }
 ],
 "metadata": {
  "kernelspec": {
   "display_name": "Python 3",
   "language": "python",
   "name": "python3"
  },
  "language_info": {
   "codemirror_mode": {
    "name": "ipython",
    "version": 3
   },
   "file_extension": ".py",
   "mimetype": "text/x-python",
   "name": "python",
   "nbconvert_exporter": "python",
   "pygments_lexer": "ipython3",
   "version": "3.8.8"
  }
 },
 "nbformat": 4,
 "nbformat_minor": 5
}
